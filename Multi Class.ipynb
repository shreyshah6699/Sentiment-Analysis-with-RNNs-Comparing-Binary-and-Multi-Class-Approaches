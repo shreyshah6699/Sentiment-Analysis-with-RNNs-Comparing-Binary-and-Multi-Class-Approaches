{
 "cells": [
  {
   "cell_type": "code",
   "execution_count": 1,
   "metadata": {
    "id": "8pz84ZBn128o"
   },
   "outputs": [],
   "source": [
    "import pandas as pd\n",
    "import tensorflow as tf\n",
    "import numpy as np\n",
    "import warnings\n",
    "warnings.filterwarnings('ignore')\n",
    "from google.colab import drive\n"
   ]
  },
  {
   "cell_type": "code",
   "execution_count": 2,
   "metadata": {
    "colab": {
     "base_uri": "https://localhost:8080/",
     "height": 0
    },
    "id": "7E2nx1-Wwnq7",
    "outputId": "f2c450ba-9ea7-4e60-f664-b698b458c469"
   },
   "outputs": [
    {
     "name": "stdout",
     "output_type": "stream",
     "text": [
      "Drive already mounted at /content/drive; to attempt to forcibly remount, call drive.mount(\"/content/drive\", force_remount=True).\n"
     ]
    }
   ],
   "source": [
    "drive.mount('/content/drive')\n",
    "# Load dataset/content/amazon_reviews.csv\n",
    "amz_rev = pd.read_csv('/content/amazon_reviews.csv')"
   ]
  },
  {
   "cell_type": "code",
   "execution_count": 3,
   "metadata": {
    "colab": {
     "base_uri": "https://localhost:8080/",
     "height": 0
    },
    "id": "wgl8e4cYwnoV",
    "outputId": "d7e698f7-7fc3-486b-ab1a-9be15c2f8c67"
   },
   "outputs": [
    {
     "name": "stderr",
     "output_type": "stream",
     "text": [
      "[nltk_data] Downloading package stopwords to /root/nltk_data...\n",
      "[nltk_data]   Package stopwords is already up-to-date!\n"
     ]
    }
   ],
   "source": [
    "import nltk\n",
    "from nltk.tokenize import RegexpTokenizer\n",
    "from nltk.corpus import stopwords\n",
    "\n",
    "nltk.download('stopwords')\n",
    "\n",
    "def preprocess_data(corpus):\n",
    "    print(\"Cleaning and removing stopwords from data...\")\n",
    "    cleaned_corpus = []\n",
    "    stop_words = set(stopwords.words('english'))\n",
    "\n",
    "    for doc in corpus:\n",
    "        tokenizer = RegexpTokenizer(r'\\w+')\n",
    "        words = tokenizer.tokenize(doc.lower())\n",
    "        filtered_words = [word for word in words if word not in stop_words]\n",
    "        cleaned_corpus.append(filtered_words)\n",
    "\n",
    "    count = len(cleaned_corpus)\n",
    "    print(f\"Data cleaning and stopwords removal completed for {count} entries\")\n",
    "    return cleaned_corpus"
   ]
  },
  {
   "cell_type": "code",
   "execution_count": 4,
   "metadata": {
    "id": "hWJmh-B4wnkr"
   },
   "outputs": [],
   "source": [
    "amz_rev['reviewText'].fillna('NA', inplace=True)"
   ]
  },
  {
   "cell_type": "code",
   "execution_count": 5,
   "metadata": {
    "colab": {
     "base_uri": "https://localhost:8080/",
     "height": 0
    },
    "id": "hSPJD4wmwwcg",
    "outputId": "d07c94c6-edc3-41df-8978-8f1002961576"
   },
   "outputs": [
    {
     "name": "stdout",
     "output_type": "stream",
     "text": [
      "Cleaning and removing stopwords from data...\n",
      "Data cleaning and stopwords removal completed for 4915 entries\n",
      "Minimum Length: 1, Maximum Length: 826, Average Length: 26.468565615462868\n"
     ]
    }
   ],
   "source": [
    "X = preprocess_data(amz_rev['reviewText'])\n",
    "\n",
    "def analyze_text_statistics(corpus):\n",
    "    min_length = float('inf')\n",
    "    max_length = 0\n",
    "    total_length = 0\n",
    "    for doc in corpus:\n",
    "        doc_length = len(doc)\n",
    "        if doc_length < min_length:\n",
    "            min_length = doc_length\n",
    "        if doc_length > max_length:\n",
    "            max_length = doc_length\n",
    "        total_length += doc_length\n",
    "\n",
    "    avg_length = total_length / len(corpus)\n",
    "    print(f\"Minimum Length: {min_length}, Maximum Length: {max_length}, Average Length: {avg_length}\")\n",
    "\n",
    "analyze_text_statistics(X)\n"
   ]
  },
  {
   "cell_type": "code",
   "execution_count": 6,
   "metadata": {
    "id": "YHN0jpkTwwZO"
   },
   "outputs": [],
   "source": [
    "def convert_to_multiclass_labels(corpus):\n",
    "    y = []\n",
    "    print(\"Converting to multiclass labels...\")\n",
    "    for k in corpus:\n",
    "        y.append(k-1)  # Mapping ratings 1-5 to 0-4\n",
    "    return y"
   ]
  },
  {
   "cell_type": "code",
   "execution_count": 7,
   "metadata": {
    "colab": {
     "base_uri": "https://localhost:8080/",
     "height": 477
    },
    "id": "zzu7R0tiwwWx",
    "outputId": "04718b89-2a7c-4074-bed2-26f724ceafc4"
   },
   "outputs": [
    {
     "name": "stdout",
     "output_type": "stream",
     "text": [
      "Converting to multiclass labels...\n"
     ]
    },
    {
     "data": {
      "image/png": "[encoded data removed]",
      "text/plain": [
       "<Figure size 640x480 with 1 Axes>"
      ]
     },
     "metadata": {},
     "output_type": "display_data"
    }
   ],
   "source": [
    "amz_rev['overall'] = convert_to_multiclass_labels(amz_rev['overall'].tolist())\n",
    "y = amz_rev['overall'].tolist()\n",
    "\n",
    "import seaborn as sns\n",
    "import matplotlib.pyplot as plt\n",
    "sns.set_theme(style=\"white\")\n",
    "\n",
    "def plot_class_distribution(y, xlabel):\n",
    "    ax = sns.countplot(x=y, color='blue')\n",
    "    for p in ax.patches:\n",
    "        ax.annotate(f'{p.get_height()}', (p.get_x() + p.get_width() / 2., p.get_height()), ha='center', va='baseline')\n",
    "    ax.set_xlabel(xlabel, fontsize=15)\n",
    "\n",
    "plot_class_distribution(amz_rev['overall'], 'Rating')\n",
    "plt.show()\n"
   ]
  },
  {
   "cell_type": "code",
   "execution_count": 8,
   "metadata": {
    "id": "lB6v59lawwUJ"
   },
   "outputs": [],
   "source": [
    "def get_vocabulary(corpus):\n",
    "    vocab = []\n",
    "    vocab = [word for words in corpus for word in words]\n",
    "    vocab = list(set(vocab))\n",
    "    vocab = sorted(vocab)\n",
    "    return vocab\n"
   ]
  },
  {
   "cell_type": "code",
   "execution_count": 9,
   "metadata": {
    "id": "cMXAScMYwwQ_"
   },
   "outputs": [],
   "source": [
    "MAX_SEQUENCE_LENGTH = 100\n",
    "VOCAB_SIZE = len(get_vocabulary(X))"
   ]
  },
  {
   "cell_type": "code",
   "execution_count": 10,
   "metadata": {
    "id": "RqG16umiwwN1"
   },
   "outputs": [],
   "source": [
    "from keras.preprocessing.text import Tokenizer\n",
    "from keras.preprocessing.sequence import pad_sequences\n",
    "\n",
    "def get_tokenized_sequences(corpus):\n",
    "    tokenizer = Tokenizer(num_words=VOCAB_SIZE)\n",
    "    tokenizer.fit_on_texts(corpus)\n",
    "    sequences = tokenizer.texts_to_sequences(corpus)\n",
    "    padded_sequences = pad_sequences(sequences, maxlen=MAX_SEQUENCE_LENGTH, padding='post', truncating='post')\n",
    "    return padded_sequences\n"
   ]
  },
  {
   "cell_type": "code",
   "execution_count": 11,
   "metadata": {
    "id": "m5bRxnelxILO"
   },
   "outputs": [],
   "source": [
    "X_seq = get_tokenized_sequences(X)"
   ]
  },
  {
   "cell_type": "code",
   "execution_count": 12,
   "metadata": {
    "colab": {
     "base_uri": "https://localhost:8080/",
     "height": 481
    },
    "id": "dlVlp9oTxIJ3",
    "outputId": "ec657de5-fdb9-426d-970c-16935e4ea44c"
   },
   "outputs": [
    {
     "data": {
      "image/png": "[encoded data removed]",
      "text/plain": [
       "<Figure size 640x480 with 3 Axes>"
      ]
     },
     "metadata": {},
     "output_type": "display_data"
    }
   ],
   "source": [
    "from sklearn.model_selection import train_test_split\n",
    "\n",
    "\n",
    "# Split the data into training and testing sets\n",
    "X_train, X_temp, y_train, y_temp = train_test_split(X_seq, y, test_size=0.2, random_state=16)\n",
    "X_val, X_test, y_val, y_test = train_test_split(X_temp, y_temp, test_size=0.5, random_state=36)\n",
    "\n",
    "y_test = np.array(y_test)\n",
    "y_train = np.array(y_train)\n",
    "y_val = np.array(y_val)\n",
    "\n",
    "plt.subplot(2, 2, 1)\n",
    "plot_class_distribution(y_train, xlabel=\"Train Set Overall Ratings\")\n",
    "plt.subplot(2, 2, 2)\n",
    "plot_class_distribution(y_val, xlabel=\"Validation Set Overall Ratings\")\n",
    "plt.subplot(2, 2, 3)\n",
    "plot_class_distribution(y_test, xlabel=\"Test Set Overall Ratings\")\n",
    "plt.tight_layout()\n",
    "plt.show()"
   ]
  },
  {
   "cell_type": "markdown",
   "metadata": {
    "id": "NHjaCVwEAGYb"
   },
   "source": [
    "# 2. Sentiment Analysis with RNN (40 points)\n",
    "Please write the code to perform the sentiment analysis task you formulated in question 1.\n",
    "During the implementation, you will need to follow the requirements listed below.\n"
   ]
  },
  {
   "cell_type": "markdown",
   "metadata": {
    "id": "oLzfot9vAIyE"
   },
   "source": [
    "1) You can select to implement 2-layer LSTM or GRU (you can directly call packages in\n",
    "Pytorch).\n"
   ]
  },
  {
   "cell_type": "markdown",
   "metadata": {
    "id": "eXxwfXwzAJOM"
   },
   "source": [
    "2) Please use SGD during optimization.\n"
   ]
  },
  {
   "cell_type": "markdown",
   "metadata": {
    "id": "s6d89MI0ARPu"
   },
   "source": [
    "3) Please initialize the word embeddings randomly and learn them during the model training.\n"
   ]
  },
  {
   "cell_type": "markdown",
   "metadata": {
    "id": "ZOmUj5K7AROj"
   },
   "source": [
    "4) You can decide other parameters."
   ]
  },
  {
   "cell_type": "code",
   "execution_count": 13,
   "metadata": {
    "id": "e_kf0FETxIId"
   },
   "outputs": [],
   "source": [
    "from tensorflow.keras import Sequential\n",
    "from tensorflow.keras.layers import Embedding, LSTM, Dense, MaxPooling1D, Conv1D, Flatten\n",
    "from tensorflow.keras.callbacks import EarlyStopping\n",
    "from keras.optimizers import SGD"
   ]
  },
  {
   "cell_type": "code",
   "execution_count": 14,
   "metadata": {
    "colab": {
     "base_uri": "https://localhost:8080/",
     "height": 0
    },
    "id": "HlHARPuExIHR",
    "outputId": "0a1fb34b-c79a-4170-e9ac-4a16c5fa3cdd"
   },
   "outputs": [
    {
     "name": "stdout",
     "output_type": "stream",
     "text": [
      "Model: \"sequential\"\n",
      "_________________________________________________________________\n",
      " Layer (type)                Output Shape              Param #   \n",
      "=================================================================\n",
      " embedding (Embedding)       (None, 100, 128)          1071744   \n",
      "                                                                 \n",
      " lstm (LSTM)                 (None, 100, 128)          131584    \n",
      "                                                                 \n",
      " lstm_1 (LSTM)               (None, 64)                49408     \n",
      "                                                                 \n",
      " dense (Dense)               (None, 5)                 325       \n",
      "                                                                 \n",
      "=================================================================\n",
      "Total params: 1253061 (4.78 MB)\n",
      "Trainable params: 1253061 (4.78 MB)\n",
      "Non-trainable params: 0 (0.00 Byte)\n",
      "_________________________________________________________________\n"
     ]
    }
   ],
   "source": [
    "RNN_model = Sequential()\n",
    "optimizer = SGD(learning_rate=0.00001)\n",
    "RNN_model.add(Embedding(VOCAB_SIZE, output_dim=128, input_length=MAX_SEQUENCE_LENGTH))\n",
    "RNN_model.add(LSTM(128, return_sequences=True, dropout=0.2))\n",
    "RNN_model.add(LSTM(64, dropout=0.2))\n",
    "RNN_model.add(Dense(5, activation='softmax'))\n",
    "\n",
    "RNN_model.compile(loss='categorical_crossentropy', optimizer=optimizer, metrics=['accuracy'])\n",
    "\n",
    "RNN_model.summary()"
   ]
  },
  {
   "cell_type": "code",
   "execution_count": 15,
   "metadata": {
    "colab": {
     "base_uri": "https://localhost:8080/",
     "height": 0
    },
    "id": "z0czsZg9xIFu",
    "outputId": "1961c31b-dcaf-44e3-b91d-9a586b1d4790"
   },
   "outputs": [
    {
     "name": "stdout",
     "output_type": "stream",
     "text": [
      "Epoch 1/100\n",
      "62/62 [==============================] - 26s 127ms/step - loss: 1.5959 - accuracy: 0.2653 - val_loss: 1.5950 - val_accuracy: 0.1181\n",
      "Epoch 2/100\n",
      "62/62 [==============================] - 4s 61ms/step - loss: 1.5949 - accuracy: 0.3164 - val_loss: 1.5939 - val_accuracy: 0.1181\n",
      "Epoch 3/100\n",
      "62/62 [==============================] - 2s 39ms/step - loss: 1.5939 - accuracy: 0.3858 - val_loss: 1.5929 - val_accuracy: 0.1222\n",
      "Epoch 4/100\n",
      "62/62 [==============================] - 2s 29ms/step - loss: 1.5929 - accuracy: 0.4509 - val_loss: 1.5918 - val_accuracy: 0.8045\n",
      "Epoch 5/100\n",
      "62/62 [==============================] - 2s 28ms/step - loss: 1.5919 - accuracy: 0.5364 - val_loss: 1.5908 - val_accuracy: 0.8045\n",
      "Epoch 6/100\n",
      "62/62 [==============================] - 2s 25ms/step - loss: 1.5909 - accuracy: 0.5966 - val_loss: 1.5897 - val_accuracy: 0.8086\n",
      "Epoch 7/100\n",
      "62/62 [==============================] - 2s 32ms/step - loss: 1.5898 - accuracy: 0.6432 - val_loss: 1.5887 - val_accuracy: 0.8086\n",
      "Epoch 8/100\n",
      "62/62 [==============================] - 2s 25ms/step - loss: 1.5887 - accuracy: 0.6966 - val_loss: 1.5876 - val_accuracy: 0.8106\n",
      "Epoch 9/100\n",
      "62/62 [==============================] - 2s 26ms/step - loss: 1.5877 - accuracy: 0.7345 - val_loss: 1.5866 - val_accuracy: 0.8126\n",
      "Epoch 10/100\n",
      "62/62 [==============================] - 1s 17ms/step - loss: 1.5867 - accuracy: 0.7561 - val_loss: 1.5855 - val_accuracy: 0.8126\n",
      "Epoch 11/100\n",
      "62/62 [==============================] - 1s 19ms/step - loss: 1.5856 - accuracy: 0.7759 - val_loss: 1.5845 - val_accuracy: 0.8126\n",
      "Epoch 12/100\n",
      "62/62 [==============================] - 1s 17ms/step - loss: 1.5847 - accuracy: 0.7798 - val_loss: 1.5834 - val_accuracy: 0.8126\n",
      "Epoch 13/100\n",
      "62/62 [==============================] - 1s 16ms/step - loss: 1.5837 - accuracy: 0.7879 - val_loss: 1.5824 - val_accuracy: 0.8126\n",
      "Epoch 14/100\n",
      "62/62 [==============================] - 1s 16ms/step - loss: 1.5825 - accuracy: 0.7925 - val_loss: 1.5813 - val_accuracy: 0.8126\n",
      "Epoch 15/100\n",
      "62/62 [==============================] - 1s 16ms/step - loss: 1.5816 - accuracy: 0.7950 - val_loss: 1.5803 - val_accuracy: 0.8126\n",
      "Epoch 16/100\n",
      "62/62 [==============================] - 1s 16ms/step - loss: 1.5806 - accuracy: 0.7943 - val_loss: 1.5792 - val_accuracy: 0.8126\n",
      "Epoch 17/100\n",
      "62/62 [==============================] - 1s 15ms/step - loss: 1.5795 - accuracy: 0.7950 - val_loss: 1.5782 - val_accuracy: 0.8126\n",
      "Epoch 18/100\n",
      "62/62 [==============================] - 1s 14ms/step - loss: 1.5786 - accuracy: 0.7950 - val_loss: 1.5772 - val_accuracy: 0.8126\n",
      "Epoch 19/100\n",
      "62/62 [==============================] - 1s 16ms/step - loss: 1.5776 - accuracy: 0.7953 - val_loss: 1.5761 - val_accuracy: 0.8126\n",
      "Epoch 20/100\n",
      "62/62 [==============================] - 1s 19ms/step - loss: 1.5764 - accuracy: 0.7948 - val_loss: 1.5751 - val_accuracy: 0.8126\n",
      "Epoch 21/100\n",
      "62/62 [==============================] - 1s 18ms/step - loss: 1.5755 - accuracy: 0.7953 - val_loss: 1.5740 - val_accuracy: 0.8126\n",
      "Epoch 22/100\n",
      "62/62 [==============================] - 1s 18ms/step - loss: 1.5746 - accuracy: 0.7953 - val_loss: 1.5730 - val_accuracy: 0.8126\n",
      "Epoch 23/100\n",
      "62/62 [==============================] - 1s 13ms/step - loss: 1.5735 - accuracy: 0.7953 - val_loss: 1.5720 - val_accuracy: 0.8126\n",
      "Epoch 24/100\n",
      "62/62 [==============================] - 1s 13ms/step - loss: 1.5725 - accuracy: 0.7953 - val_loss: 1.5709 - val_accuracy: 0.8126\n",
      "Epoch 25/100\n",
      "62/62 [==============================] - 1s 12ms/step - loss: 1.5716 - accuracy: 0.7953 - val_loss: 1.5699 - val_accuracy: 0.8126\n",
      "Epoch 26/100\n",
      "62/62 [==============================] - 1s 15ms/step - loss: 1.5705 - accuracy: 0.7953 - val_loss: 1.5689 - val_accuracy: 0.8126\n",
      "Epoch 27/100\n",
      "62/62 [==============================] - 1s 15ms/step - loss: 1.5694 - accuracy: 0.7953 - val_loss: 1.5678 - val_accuracy: 0.8126\n",
      "Epoch 28/100\n",
      "62/62 [==============================] - 1s 14ms/step - loss: 1.5684 - accuracy: 0.7953 - val_loss: 1.5668 - val_accuracy: 0.8126\n",
      "Epoch 29/100\n",
      "62/62 [==============================] - 1s 14ms/step - loss: 1.5675 - accuracy: 0.7953 - val_loss: 1.5658 - val_accuracy: 0.8126\n",
      "Epoch 30/100\n",
      "62/62 [==============================] - 1s 13ms/step - loss: 1.5665 - accuracy: 0.7953 - val_loss: 1.5647 - val_accuracy: 0.8126\n",
      "Epoch 31/100\n",
      "62/62 [==============================] - 1s 15ms/step - loss: 1.5653 - accuracy: 0.7953 - val_loss: 1.5637 - val_accuracy: 0.8126\n",
      "Epoch 32/100\n",
      "62/62 [==============================] - 1s 15ms/step - loss: 1.5644 - accuracy: 0.7953 - val_loss: 1.5627 - val_accuracy: 0.8126\n",
      "Epoch 33/100\n",
      "62/62 [==============================] - 1s 15ms/step - loss: 1.5635 - accuracy: 0.7953 - val_loss: 1.5616 - val_accuracy: 0.8126\n",
      "Epoch 34/100\n",
      "62/62 [==============================] - 1s 17ms/step - loss: 1.5624 - accuracy: 0.7953 - val_loss: 1.5606 - val_accuracy: 0.8126\n",
      "Epoch 35/100\n",
      "62/62 [==============================] - 1s 19ms/step - loss: 1.5614 - accuracy: 0.7953 - val_loss: 1.5596 - val_accuracy: 0.8126\n",
      "Epoch 36/100\n",
      "62/62 [==============================] - 1s 22ms/step - loss: 1.5605 - accuracy: 0.7953 - val_loss: 1.5585 - val_accuracy: 0.8126\n",
      "Epoch 37/100\n",
      "62/62 [==============================] - 1s 14ms/step - loss: 1.5595 - accuracy: 0.7953 - val_loss: 1.5575 - val_accuracy: 0.8126\n",
      "Epoch 38/100\n",
      "62/62 [==============================] - 1s 14ms/step - loss: 1.5584 - accuracy: 0.7953 - val_loss: 1.5565 - val_accuracy: 0.8126\n",
      "Epoch 39/100\n",
      "62/62 [==============================] - 1s 15ms/step - loss: 1.5574 - accuracy: 0.7953 - val_loss: 1.5555 - val_accuracy: 0.8126\n",
      "Epoch 40/100\n",
      "62/62 [==============================] - 1s 12ms/step - loss: 1.5564 - accuracy: 0.7953 - val_loss: 1.5544 - val_accuracy: 0.8126\n",
      "Epoch 41/100\n",
      "62/62 [==============================] - 1s 14ms/step - loss: 1.5554 - accuracy: 0.7953 - val_loss: 1.5534 - val_accuracy: 0.8126\n",
      "Epoch 42/100\n",
      "62/62 [==============================] - 1s 14ms/step - loss: 1.5544 - accuracy: 0.7953 - val_loss: 1.5524 - val_accuracy: 0.8126\n",
      "Epoch 43/100\n",
      "62/62 [==============================] - 1s 13ms/step - loss: 1.5534 - accuracy: 0.7953 - val_loss: 1.5514 - val_accuracy: 0.8126\n",
      "Epoch 44/100\n",
      "62/62 [==============================] - 1s 13ms/step - loss: 1.5524 - accuracy: 0.7953 - val_loss: 1.5504 - val_accuracy: 0.8126\n",
      "Epoch 45/100\n",
      "62/62 [==============================] - 1s 13ms/step - loss: 1.5515 - accuracy: 0.7953 - val_loss: 1.5493 - val_accuracy: 0.8126\n",
      "Epoch 46/100\n",
      "62/62 [==============================] - 1s 13ms/step - loss: 1.5504 - accuracy: 0.7953 - val_loss: 1.5483 - val_accuracy: 0.8126\n",
      "Epoch 47/100\n",
      "62/62 [==============================] - 1s 13ms/step - loss: 1.5494 - accuracy: 0.7953 - val_loss: 1.5473 - val_accuracy: 0.8126\n",
      "Epoch 48/100\n",
      "62/62 [==============================] - 1s 12ms/step - loss: 1.5483 - accuracy: 0.7953 - val_loss: 1.5463 - val_accuracy: 0.8126\n",
      "Epoch 49/100\n",
      "62/62 [==============================] - 1s 19ms/step - loss: 1.5474 - accuracy: 0.7953 - val_loss: 1.5453 - val_accuracy: 0.8126\n",
      "Epoch 50/100\n",
      "62/62 [==============================] - 2s 28ms/step - loss: 1.5464 - accuracy: 0.7953 - val_loss: 1.5442 - val_accuracy: 0.8126\n",
      "Epoch 51/100\n",
      "62/62 [==============================] - 2s 27ms/step - loss: 1.5454 - accuracy: 0.7953 - val_loss: 1.5432 - val_accuracy: 0.8126\n",
      "Epoch 52/100\n",
      "62/62 [==============================] - 1s 19ms/step - loss: 1.5444 - accuracy: 0.7953 - val_loss: 1.5422 - val_accuracy: 0.8126\n",
      "Epoch 53/100\n",
      "62/62 [==============================] - 1s 13ms/step - loss: 1.5434 - accuracy: 0.7953 - val_loss: 1.5412 - val_accuracy: 0.8126\n",
      "Epoch 54/100\n",
      "62/62 [==============================] - 1s 15ms/step - loss: 1.5425 - accuracy: 0.7953 - val_loss: 1.5402 - val_accuracy: 0.8126\n",
      "Epoch 55/100\n",
      "62/62 [==============================] - 1s 12ms/step - loss: 1.5415 - accuracy: 0.7953 - val_loss: 1.5392 - val_accuracy: 0.8126\n",
      "Epoch 56/100\n",
      "62/62 [==============================] - 1s 13ms/step - loss: 1.5404 - accuracy: 0.7953 - val_loss: 1.5381 - val_accuracy: 0.8126\n",
      "Epoch 57/100\n",
      "62/62 [==============================] - 1s 12ms/step - loss: 1.5396 - accuracy: 0.7953 - val_loss: 1.5371 - val_accuracy: 0.8126\n",
      "Epoch 58/100\n",
      "62/62 [==============================] - 1s 13ms/step - loss: 1.5386 - accuracy: 0.7953 - val_loss: 1.5361 - val_accuracy: 0.8126\n",
      "Epoch 59/100\n",
      "62/62 [==============================] - 1s 12ms/step - loss: 1.5376 - accuracy: 0.7953 - val_loss: 1.5351 - val_accuracy: 0.8126\n",
      "Epoch 60/100\n",
      "62/62 [==============================] - 1s 22ms/step - loss: 1.5366 - accuracy: 0.7953 - val_loss: 1.5341 - val_accuracy: 0.8126\n",
      "Epoch 61/100\n",
      "62/62 [==============================] - 2s 24ms/step - loss: 1.5355 - accuracy: 0.7953 - val_loss: 1.5331 - val_accuracy: 0.8126\n",
      "Epoch 62/100\n",
      "62/62 [==============================] - 2s 28ms/step - loss: 1.5347 - accuracy: 0.7953 - val_loss: 1.5321 - val_accuracy: 0.8126\n",
      "Epoch 63/100\n",
      "62/62 [==============================] - 2s 28ms/step - loss: 1.5336 - accuracy: 0.7953 - val_loss: 1.5311 - val_accuracy: 0.8126\n",
      "Epoch 64/100\n",
      "62/62 [==============================] - 2s 26ms/step - loss: 1.5326 - accuracy: 0.7953 - val_loss: 1.5301 - val_accuracy: 0.8126\n",
      "Epoch 65/100\n",
      "62/62 [==============================] - 1s 18ms/step - loss: 1.5317 - accuracy: 0.7953 - val_loss: 1.5290 - val_accuracy: 0.8126\n",
      "Epoch 66/100\n",
      "62/62 [==============================] - 1s 17ms/step - loss: 1.5307 - accuracy: 0.7953 - val_loss: 1.5280 - val_accuracy: 0.8126\n",
      "Epoch 67/100\n",
      "62/62 [==============================] - 1s 20ms/step - loss: 1.5296 - accuracy: 0.7953 - val_loss: 1.5270 - val_accuracy: 0.8126\n",
      "Epoch 68/100\n",
      "62/62 [==============================] - 1s 12ms/step - loss: 1.5287 - accuracy: 0.7953 - val_loss: 1.5260 - val_accuracy: 0.8126\n",
      "Epoch 69/100\n",
      "62/62 [==============================] - 1s 14ms/step - loss: 1.5277 - accuracy: 0.7953 - val_loss: 1.5250 - val_accuracy: 0.8126\n",
      "Epoch 70/100\n",
      "62/62 [==============================] - 1s 13ms/step - loss: 1.5266 - accuracy: 0.7953 - val_loss: 1.5240 - val_accuracy: 0.8126\n",
      "Epoch 71/100\n",
      "62/62 [==============================] - 1s 13ms/step - loss: 1.5258 - accuracy: 0.7953 - val_loss: 1.5230 - val_accuracy: 0.8126\n",
      "Epoch 72/100\n",
      "62/62 [==============================] - 1s 12ms/step - loss: 1.5247 - accuracy: 0.7953 - val_loss: 1.5220 - val_accuracy: 0.8126\n",
      "Epoch 73/100\n",
      "62/62 [==============================] - 1s 13ms/step - loss: 1.5238 - accuracy: 0.7953 - val_loss: 1.5210 - val_accuracy: 0.8126\n",
      "Epoch 74/100\n",
      "62/62 [==============================] - 1s 15ms/step - loss: 1.5228 - accuracy: 0.7953 - val_loss: 1.5200 - val_accuracy: 0.8126\n",
      "Epoch 75/100\n",
      "62/62 [==============================] - 1s 18ms/step - loss: 1.5217 - accuracy: 0.7953 - val_loss: 1.5190 - val_accuracy: 0.8126\n",
      "Epoch 76/100\n",
      "62/62 [==============================] - 1s 18ms/step - loss: 1.5209 - accuracy: 0.7953 - val_loss: 1.5180 - val_accuracy: 0.8126\n",
      "Epoch 77/100\n",
      "62/62 [==============================] - 1s 16ms/step - loss: 1.5200 - accuracy: 0.7953 - val_loss: 1.5170 - val_accuracy: 0.8126\n",
      "Epoch 78/100\n",
      "62/62 [==============================] - 1s 13ms/step - loss: 1.5189 - accuracy: 0.7953 - val_loss: 1.5160 - val_accuracy: 0.8126\n",
      "Epoch 79/100\n",
      "62/62 [==============================] - 1s 13ms/step - loss: 1.5180 - accuracy: 0.7953 - val_loss: 1.5150 - val_accuracy: 0.8126\n",
      "Epoch 80/100\n",
      "62/62 [==============================] - 1s 12ms/step - loss: 1.5171 - accuracy: 0.7953 - val_loss: 1.5140 - val_accuracy: 0.8126\n",
      "Epoch 81/100\n",
      "62/62 [==============================] - 1s 13ms/step - loss: 1.5160 - accuracy: 0.7953 - val_loss: 1.5130 - val_accuracy: 0.8126\n",
      "Epoch 82/100\n",
      "62/62 [==============================] - 1s 13ms/step - loss: 1.5151 - accuracy: 0.7953 - val_loss: 1.5120 - val_accuracy: 0.8126\n",
      "Epoch 83/100\n",
      "62/62 [==============================] - 1s 13ms/step - loss: 1.5140 - accuracy: 0.7953 - val_loss: 1.5110 - val_accuracy: 0.8126\n",
      "Epoch 84/100\n",
      "62/62 [==============================] - 1s 12ms/step - loss: 1.5130 - accuracy: 0.7953 - val_loss: 1.5100 - val_accuracy: 0.8126\n",
      "Epoch 85/100\n",
      "62/62 [==============================] - 1s 13ms/step - loss: 1.5122 - accuracy: 0.7953 - val_loss: 1.5090 - val_accuracy: 0.8126\n",
      "Epoch 86/100\n",
      "62/62 [==============================] - 1s 13ms/step - loss: 1.5112 - accuracy: 0.7953 - val_loss: 1.5080 - val_accuracy: 0.8126\n",
      "Epoch 87/100\n",
      "62/62 [==============================] - 1s 13ms/step - loss: 1.5101 - accuracy: 0.7953 - val_loss: 1.5070 - val_accuracy: 0.8126\n",
      "Epoch 88/100\n",
      "62/62 [==============================] - 1s 13ms/step - loss: 1.5092 - accuracy: 0.7953 - val_loss: 1.5060 - val_accuracy: 0.8126\n",
      "Epoch 89/100\n",
      "62/62 [==============================] - 1s 13ms/step - loss: 1.5081 - accuracy: 0.7953 - val_loss: 1.5050 - val_accuracy: 0.8126\n",
      "Epoch 90/100\n",
      "62/62 [==============================] - 1s 15ms/step - loss: 1.5072 - accuracy: 0.7953 - val_loss: 1.5040 - val_accuracy: 0.8126\n",
      "Epoch 91/100\n",
      "62/62 [==============================] - 1s 18ms/step - loss: 1.5062 - accuracy: 0.7953 - val_loss: 1.5030 - val_accuracy: 0.8126\n",
      "Epoch 92/100\n",
      "62/62 [==============================] - 1s 15ms/step - loss: 1.5054 - accuracy: 0.7953 - val_loss: 1.5020 - val_accuracy: 0.8126\n",
      "Epoch 93/100\n",
      "62/62 [==============================] - 1s 17ms/step - loss: 1.5044 - accuracy: 0.7953 - val_loss: 1.5010 - val_accuracy: 0.8126\n",
      "Epoch 94/100\n",
      "62/62 [==============================] - 1s 13ms/step - loss: 1.5033 - accuracy: 0.7953 - val_loss: 1.5000 - val_accuracy: 0.8126\n",
      "Epoch 95/100\n",
      "62/62 [==============================] - 1s 12ms/step - loss: 1.5023 - accuracy: 0.7953 - val_loss: 1.4990 - val_accuracy: 0.8126\n",
      "Epoch 96/100\n",
      "62/62 [==============================] - 1s 14ms/step - loss: 1.5014 - accuracy: 0.7953 - val_loss: 1.4981 - val_accuracy: 0.8126\n",
      "Epoch 97/100\n",
      "62/62 [==============================] - 1s 12ms/step - loss: 1.5005 - accuracy: 0.7953 - val_loss: 1.4971 - val_accuracy: 0.8126\n",
      "Epoch 98/100\n",
      "62/62 [==============================] - 1s 13ms/step - loss: 1.4995 - accuracy: 0.7953 - val_loss: 1.4961 - val_accuracy: 0.8126\n",
      "Epoch 99/100\n",
      "62/62 [==============================] - 1s 13ms/step - loss: 1.4984 - accuracy: 0.7953 - val_loss: 1.4951 - val_accuracy: 0.8126\n",
      "Epoch 100/100\n",
      "62/62 [==============================] - 1s 13ms/step - loss: 1.4977 - accuracy: 0.7953 - val_loss: 1.4941 - val_accuracy: 0.8126\n",
      "16/16 [==============================] - 0s 9ms/step - loss: 1.4950 - accuracy: 0.8049\n",
      "16/16 [==============================] - 1s 8ms/step\n"
     ]
    }
   ],
   "source": [
    "earlystopping = EarlyStopping(monitor='val_loss', mode='min', verbose=1, patience=5, min_delta=0.01)\n",
    "\n",
    "\n",
    "y_train = tf.keras.utils.to_categorical(y_train, num_classes=5)\n",
    "y_val = tf.keras.utils.to_categorical(y_val, num_classes=5)\n",
    "y_test = tf.keras.utils.to_categorical(y_test, num_classes=5)\n",
    "\n",
    "RNN_model.fit(X_train, y_train, validation_data=(X_val, y_val), epochs=100, batch_size=64, callbacks=[earlystopping])\n",
    "\n",
    "RNN_model.evaluate(X_test, y_test)\n",
    "\n",
    "y_preds = RNN_model.predict(X_test)"
   ]
  },
  {
   "cell_type": "markdown",
   "metadata": {
    "id": "7jc-FnA5AfC7"
   },
   "source": [
    "# 3. Sentiment Analysis with CNN (40 points)\n",
    "Please write the code to perform the sentiment analysis task you formulated in question 1.\n",
    "During the implementation, you will need to follow the requirements listed below. Feel free to\n",
    "use any packages and libraries.\n"
   ]
  },
  {
   "cell_type": "markdown",
   "metadata": {
    "id": "0YUfN33XAfBN"
   },
   "source": [
    "1) Please use mini-batch gradient descent method during optimization with batch size 20.\n"
   ]
  },
  {
   "cell_type": "markdown",
   "metadata": {
    "id": "kE232D0RAe5S"
   },
   "source": [
    "2) Please initialize the word embeddings with the pre-trained glove embeddings you used\n",
    "in HW1 and update them during the model training.\n"
   ]
  },
  {
   "cell_type": "markdown",
   "metadata": {
    "id": "ET82ZOXDAexZ"
   },
   "source": [
    "3) You can decide other parameters"
   ]
  },
  {
   "cell_type": "code",
   "execution_count": 16,
   "metadata": {
    "colab": {
     "base_uri": "https://localhost:8080/",
     "height": 0
    },
    "id": "cUOWUgUuzE-Z",
    "outputId": "254b9edb-9a7f-4380-ec8b-c6bb76d58507"
   },
   "outputs": [
    {
     "name": "stdout",
     "output_type": "stream",
     "text": [
      "Loaded vocabulary size: 400000\n"
     ]
    }
   ],
   "source": [
    "import gensim.downloader as api\n",
    "\n",
    "def load_embedding_model():\n",
    "    wv_from_bin = api.load(\"glove-wiki-gigaword-200\")\n",
    "    print(\"Loaded vocabulary size: %i\" % len(list(wv_from_bin.index_to_key)))\n",
    "    return wv_from_bin\n",
    "\n",
    "wv_from_bin = load_embedding_model()\n"
   ]
  },
  {
   "cell_type": "code",
   "execution_count": 17,
   "metadata": {
    "id": "xRn9CxpczE2N"
   },
   "outputs": [],
   "source": [
    "import random\n",
    "\n",
    "def get_word_vectors_matrix(wv_from_bin, required_words):\n",
    "    words = list(wv_from_bin.index_to_key)\n",
    "    random.seed(225)\n",
    "    random.shuffle(words)\n",
    "    words = words[:10000]\n",
    "    print(\"Putting %i words into word2ind and matrix M...\" % len(words))\n",
    "    word2ind = {}\n",
    "    M = []\n",
    "    curInd = 0\n",
    "    for w in words:\n",
    "        try:\n",
    "            M.append(wv_from_bin.get_vector(w))\n",
    "            word2ind[w] = curInd\n",
    "            curInd += 1\n",
    "        except KeyError:\n",
    "            continue\n",
    "    for w in required_words:\n",
    "        if w in words:\n",
    "            continue\n",
    "        try:\n",
    "            M.append(wv_from_bin.get_vector(w))\n",
    "            word2ind[w] = curInd\n",
    "            curInd += 1\n",
    "        except KeyError:\n",
    "            continue\n",
    "    M = np.stack(M)\n",
    "    print(\"Done.\")\n",
    "    return M, word2ind\n"
   ]
  },
  {
   "cell_type": "code",
   "execution_count": 18,
   "metadata": {
    "colab": {
     "base_uri": "https://localhost:8080/",
     "height": 0
    },
    "id": "AWfvpBv5z0TP",
    "outputId": "e414d6bc-3ddc-4df5-ad9e-bc1b8c4fd18f"
   },
   "outputs": [
    {
     "name": "stdout",
     "output_type": "stream",
     "text": [
      "Putting 10000 words into word2ind and matrix M...\n",
      "Done.\n"
     ]
    }
   ],
   "source": [
    "from sklearn.decomposition import TruncatedSVD\n",
    "\n",
    "def reduce_to_k_dimensions(M, k=2):\n",
    "    svd = TruncatedSVD(n_components=k, n_iter=10, random_state=16)\n",
    "    M_reduced = svd.fit_transform(M)\n",
    "    print(\"completed Reducing to 128 dimensions.\")\n",
    "    return M_reduced\n",
    "\n",
    "M2, word2index2 = get_word_vectors_matrix(wv_from_bin, get_vocabulary(X))"
   ]
  },
  {
   "cell_type": "code",
   "execution_count": 19,
   "metadata": {
    "colab": {
     "base_uri": "https://localhost:8080/",
     "height": 0
    },
    "id": "KAMudpN7z1MP",
    "outputId": "98f3f61f-95f7-41b1-c473-e2b0df948d1e"
   },
   "outputs": [
    {
     "name": "stdout",
     "output_type": "stream",
     "text": [
      "completed Reducing to 128 dimensions.\n"
     ]
    }
   ],
   "source": [
    "MAX_SEQUENCE_LENGTH = 100\n",
    "VOCAB_SIZE = len(get_vocabulary(X))\n",
    "BATCH_SIZE = 20\n",
    "M2 = reduce_to_k_dimensions(M2, 128)\n",
    "\n",
    "data_sequences = [[word2index2.get(word, 0) for word in data_point] for data_point in X]\n",
    "padded_data = pad_sequences(data_sequences, maxlen=MAX_SEQUENCE_LENGTH, padding='post', truncating='post')\n",
    "padded_data.shape\n",
    "\n",
    "y = np.array(y)\n",
    "X_train, X_temp, y_train, y_temp = train_test_split(padded_data, y, test_size=0.2, random_state=42)\n",
    "X_val, X_test, y_val_CNN, y_test_CNN = train_test_split(X_temp, y_temp, test_size=0.5, random_state=42)\n"
   ]
  },
  {
   "cell_type": "code",
   "execution_count": 20,
   "metadata": {
    "colab": {
     "base_uri": "https://localhost:8080/",
     "height": 0
    },
    "id": "mJHOdKN60yWu",
    "outputId": "717f696a-c909-4553-ca0d-c9229db990bb"
   },
   "outputs": [
    {
     "name": "stdout",
     "output_type": "stream",
     "text": [
      "Model: \"sequential_1\"\n",
      "_________________________________________________________________\n",
      " Layer (type)                Output Shape              Param #   \n",
      "=================================================================\n",
      " embedding_1 (Embedding)     (None, 100, 128)          2139648   \n",
      "                                                                 \n",
      " conv1d (Conv1D)             (None, 96, 128)           82048     \n",
      "                                                                 \n",
      " max_pooling1d (MaxPooling1  (None, 48, 128)           0         \n",
      " D)                                                              \n",
      "                                                                 \n",
      " conv1d_1 (Conv1D)           (None, 44, 128)           82048     \n",
      "                                                                 \n",
      " max_pooling1d_1 (MaxPoolin  (None, 22, 128)           0         \n",
      " g1D)                                                            \n",
      "                                                                 \n",
      " flatten (Flatten)           (None, 2816)              0         \n",
      "                                                                 \n",
      " dense_1 (Dense)             (None, 5)                 14085     \n",
      "                                                                 \n",
      "=================================================================\n",
      "Total params: 2317829 (8.84 MB)\n",
      "Trainable params: 178181 (696.02 KB)\n",
      "Non-trainable params: 2139648 (8.16 MB)\n",
      "_________________________________________________________________\n"
     ]
    }
   ],
   "source": [
    "CNN_model = Sequential()\n",
    "\n",
    "vocab_size = len(word2index2)  # Add 1 for the OOV token\n",
    "CNN_model.add(Embedding(input_dim=vocab_size, output_dim=M2.shape[1], weights=[M2], input_length=MAX_SEQUENCE_LENGTH, trainable=False))\n",
    "CNN_model.add(Conv1D(filters=128, kernel_size=5, activation='relu'))\n",
    "CNN_model.add(MaxPooling1D(pool_size=2))\n",
    "CNN_model.add(Conv1D(filters=128, kernel_size=5, activation='relu'))\n",
    "CNN_model.add(MaxPooling1D(pool_size=2))\n",
    "CNN_model.add(Flatten())\n",
    "CNN_model.add(Dense(5, activation='softmax'))\n",
    "\n",
    "CNN_model.summary()\n",
    "\n",
    "CNN_model.compile(loss='categorical_crossentropy', optimizer='adam', metrics=['accuracy'])"
   ]
  },
  {
   "cell_type": "code",
   "execution_count": 21,
   "metadata": {
    "colab": {
     "base_uri": "https://localhost:8080/",
     "height": 0
    },
    "id": "ACaODk5E0yUO",
    "outputId": "225ebb81-18a9-4f3c-d8ea-81c0f0a30a21"
   },
   "outputs": [
    {
     "name": "stdout",
     "output_type": "stream",
     "text": [
      "Epoch 1/100\n",
      "197/197 [==============================] - 4s 6ms/step - loss: 0.7251 - accuracy: 0.7930 - val_loss: 0.6977 - val_accuracy: 0.7882\n",
      "Epoch 2/100\n",
      "197/197 [==============================] - 1s 5ms/step - loss: 0.6079 - accuracy: 0.8113 - val_loss: 0.8804 - val_accuracy: 0.7862\n",
      "Epoch 3/100\n",
      "197/197 [==============================] - 1s 7ms/step - loss: 0.4724 - accuracy: 0.8433 - val_loss: 0.7590 - val_accuracy: 0.7943\n",
      "Epoch 4/100\n",
      "197/197 [==============================] - 1s 6ms/step - loss: 0.2808 - accuracy: 0.9036 - val_loss: 0.9214 - val_accuracy: 0.7637\n",
      "Epoch 5/100\n",
      "197/197 [==============================] - 1s 6ms/step - loss: 0.1397 - accuracy: 0.9585 - val_loss: 1.0623 - val_accuracy: 0.7760\n",
      "Epoch 6/100\n",
      "197/197 [==============================] - 1s 5ms/step - loss: 0.0550 - accuracy: 0.9883 - val_loss: 1.1278 - val_accuracy: 0.7495\n",
      "Epoch 6: early stopping\n",
      "16/16 [==============================] - 0s 3ms/step - loss: 1.0197 - accuracy: 0.8130\n",
      "16/16 [==============================] - 0s 2ms/step\n"
     ]
    }
   ],
   "source": [
    "y_train_categorical = tf.keras.utils.to_categorical(y_train, num_classes=5)\n",
    "y_val_categorical = tf.keras.utils.to_categorical(y_val_CNN, num_classes=5)\n",
    "y_test_categorical = tf.keras.utils.to_categorical(y_test_CNN, num_classes=5)\n",
    "\n",
    "CNN_model.fit(X_train, y_train_categorical, validation_data=(X_val, y_val_categorical), epochs=100, batch_size=BATCH_SIZE, callbacks=[earlystopping])\n",
    "\n",
    "CNN_model.evaluate(X_test, y_test_categorical)\n",
    "\n",
    "y_preds = CNN_model.predict(X_test)"
   ]
  },
  {
   "cell_type": "markdown",
   "metadata": {
    "id": "zjZ3JKSYCu_g"
   },
   "source": [
    "# 4. Evaluation (10 points):\n",
    "Train the model on the training set, select the best model based on the validation set, and\n",
    "evaluate your model on the testing set.\n"
   ]
  },
  {
   "cell_type": "markdown",
   "metadata": {
    "id": "3Z4-BkYYDCew"
   },
   "source": [
    "1) Evaluate the model performance using metrics for classification, such as accuracy,\n",
    "precision, recall, F1-score, and AUC. Report your results for both methods. You can call\n",
    "classification report in sklearn. (4 points)\n"
   ]
  },
  {
   "cell_type": "code",
   "execution_count": 22,
   "metadata": {
    "colab": {
     "base_uri": "https://localhost:8080/",
     "height": 0
    },
    "id": "63slrqMIjjxj",
    "outputId": "ffefed32-ebd3-44d3-84b9-1ac4457eedd8"
   },
   "outputs": [
    {
     "name": "stdout",
     "output_type": "stream",
     "text": [
      "Accuracy of the RNN model is 0.7378048780487805\n",
      "              precision    recall  f1-score   support\n",
      "\n",
      "           0       0.05      0.04      0.04        27\n",
      "           1       0.00      0.00      0.00         6\n",
      "           2       0.00      0.00      0.00        17\n",
      "           3       0.11      0.07      0.08        46\n",
      "           4       0.81      0.91      0.86       396\n",
      "\n",
      "    accuracy                           0.74       492\n",
      "   macro avg       0.19      0.20      0.20       492\n",
      "weighted avg       0.67      0.74      0.70       492\n",
      "\n",
      "[[  1   0   0   1  25]\n",
      " [  0   0   0   2   4]\n",
      " [  0   0   0   1  16]\n",
      " [  5   0   0   3  38]\n",
      " [ 14   0   3  20 359]]\n"
     ]
    }
   ],
   "source": [
    "from sklearn.metrics import classification_report, confusion_matrix, accuracy_score, f1_score, precision_score, recall_score\n",
    "\n",
    "y_preds_RNN = np.argmax(y_preds, axis=1)\n",
    "y_test_argmax = np.argmax(y_test, axis=1)\n",
    "\n",
    "print(f'Accuracy of the RNN model is {accuracy_score(y_test_argmax, y_preds_RNN)}')\n",
    "print(classification_report(y_test_argmax, y_preds_RNN))\n",
    "print(confusion_matrix(y_test_argmax, y_preds_RNN))\n",
    "\n"
   ]
  },
  {
   "cell_type": "code",
   "execution_count": 23,
   "metadata": {
    "colab": {
     "base_uri": "https://localhost:8080/",
     "height": 0
    },
    "id": "dvUJENlxjrFN",
    "outputId": "192490cc-953f-4572-ecf6-b28252a29482"
   },
   "outputs": [
    {
     "name": "stdout",
     "output_type": "stream",
     "text": [
      "Accuracy score of CNN model is 0.8130081300813008\n",
      "              precision    recall  f1-score   support\n",
      "\n",
      "           0       0.65      0.48      0.55        27\n",
      "           1       0.00      0.00      0.00         5\n",
      "           2       0.00      0.00      0.00        13\n",
      "           3       0.30      0.16      0.21        50\n",
      "           4       0.86      0.95      0.90       397\n",
      "\n",
      "    accuracy                           0.81       492\n",
      "   macro avg       0.36      0.32      0.33       492\n",
      "weighted avg       0.76      0.81      0.78       492\n",
      "\n",
      "[[ 13   0   1   3  10]\n",
      " [  1   0   1   0   3]\n",
      " [  3   0   0   1   9]\n",
      " [  0   0   1   8  41]\n",
      " [  3   0   0  15 379]]\n"
     ]
    }
   ],
   "source": [
    "y_preds_CNN = np.argmax(y_preds, axis=1)\n",
    "y_test_argmax = np.argmax(y_test_categorical, axis=1)\n",
    "print(f'Accuracy score of CNN model is {accuracy_score(y_test_argmax, y_preds_CNN)}')\n",
    "print(classification_report(y_test_argmax, y_preds_CNN))\n",
    "print(confusion_matrix(y_test_argmax, y_preds_CNN))"
   ]
  },
  {
   "cell_type": "markdown",
   "metadata": {
    "id": "6Vmmvp__DE6A"
   },
   "source": [
    "### 2) Have a brief discussion to compare the performance of the two models. It should be noted\n",
    "###  that there is no fixed answer for the results. You will need to report the exact results\n",
    "### returned in your experiments. The discussions should only be based on your own\n",
    "### experimental settings and returned results. (3 points)"
   ]
  },
  {
   "cell_type": "markdown",
   "metadata": {
    "id": "d1Ftpb9zClHN"
   },
   "source": [
    "Based on my observations from the model training and evaluation, it's evident that the CNN model outperformed the LSTM model in terms of accuracy. This improvement is noteworthy, given that the embeddings used in the CNN model were pre-trained on a large external dataset, whereas the LSTM model relies on random initialization and learns embeddings during training.\n",
    "\n",
    "The superior performance of the CNN model can be attributed to the availability of a larger training dataset. With more data points for training, the LSTM model could potentially achieve a better accuracy. It's important to note that the GloVe embeddings, originating from an extensive and diverse dataset, offer greater flexibility, which contributes to their higher accuracy. This outcome emphasizes that, although CNNs are not typically tailored for NLP tasks, the quality and size of pre-trained embeddings can significantly impact the model's performance."
   ]
  },
  {
   "cell_type": "markdown",
   "metadata": {
    "id": "DgaaZTR1ClGB"
   },
   "source": [
    "### 3) Are there any differences between the results you obtained in HW1 and HW2? Which\n",
    "### model performs best? Can you please provide some discussions about your findings? It\n",
    "### would be great to think about and discuss the underlying reasons for the outperformance\n",
    "### of the best model."
   ]
  },
  {
   "cell_type": "markdown",
   "metadata": {
    "id": "rxkZ7bTuDf2j"
   },
   "source": [
    "In comparing the results between HW1 and HW2, it's evident that the models in HW1 outperformed those in HW2. The Neural Network in HW1 exhibited the highest accuracy and F1-Score, surpassing both Logistic Regression and the models in HW2. The reasons behind this discrepancy could be multifaceted. Firstly, the Neural Network in HW1 was a more complex model with more layers, making it capable of capturing intricate patterns in the data. Additionally, the dataset size might have been larger in HW1, which often aids models in learning better representations. Moreover, effective hyperparameter tuning and possible feature engineering in HW1 contributed to its superior performance. In contrast, the simpler models in HW2 may not have been as well-suited for the task. However, the performance of Logistic Regression in HW1 may be an anomaly, as deep learning models are generally expected to outperform linear models in NLP tasks."
   ]
  },
  {
   "cell_type": "markdown",
   "metadata": {
    "id": "8HxRbkOGEep6"
   },
   "source": [
    "## **References**"
   ]
  },
  {
   "cell_type": "markdown",
   "metadata": {
    "id": "_pCSp7cCEi2p"
   },
   "source": [
    "I have used Chatgpt and some code snippets from GitHub."
   ]
  }
 ],
 "metadata": {
  "accelerator": "GPU",
  "colab": {
   "gpuType": "T4",
   "provenance": []
  },
  "kernelspec": {
   "display_name": "Python 3 (ipykernel)",
   "language": "python",
   "name": "python3"
  },
  "language_info": {
   "codemirror_mode": {
    "name": "ipython",
    "version": 3
   },
   "file_extension": ".py",
   "mimetype": "text/x-python",
   "name": "python",
   "nbconvert_exporter": "python",
   "pygments_lexer": "ipython3",
   "version": "3.10.9"
  }
 },
 "nbformat": 4,
 "nbformat_minor": 1
}
