{
 "cells": [
  {
   "cell_type": "markdown",
   "metadata": {
    "id": "3r4ie5-WmAJV"
   },
   "source": [
    "# Tasks 1: Extracting features (60 points)\n",
    "# 1. Data preparation (20 points)\n",
    "1) Data preprocessing (10 points): Download and load the dataset. Please process the\n",
    "reviews by\n",
    "bold text"
   ]
  },
  {
   "cell_type": "markdown",
   "metadata": {
    "id": "JxFhxtzPmJf9"
   },
   "source": [
    "(i) converting all text to lowercase to ensure uniformity,\n"
   ]
  },
  {
   "cell_type": "markdown",
   "metadata": {
    "id": "YUH3_J_lmJis"
   },
   "source": [
    "(ii) removing punctuations, numbers, and stopwords"
   ]
  },
  {
   "cell_type": "markdown",
   "metadata": {
    "id": "O7eGZscxmJlT"
   },
   "source": [
    "and(iii) tokenizing the reviews into tokens. If you\n",
    " plan to work on the binary classification problem, you will need to assign binary class\n",
    "labels based on the above-mentioned strategy.\n"
   ]
  },
  {
   "cell_type": "markdown",
   "metadata": {
    "id": "TyjYG-w6l9RN"
   },
   "source": [
    "# 2) Data split (5 points):\n",
    " Split the data with the ratio of 0.8, 0.1, and 0.1 into training,\n",
    "validation/development, and testing, respectively.\n"
   ]
  },
  {
   "cell_type": "markdown",
   "metadata": {
    "id": "0r2a1oOvmupG"
   },
   "source": [
    "## 3) Data statistics (5 points):\n",
    "Please conduct an analysis of the basic statistics of the data you\n",
    "obtained. For example, you can consider the following aspects, number of data samples in\n",
    "training/development/testing, minimum/average/maximum number of tokens across all\n",
    "reviews, number of positive/negative reviews in training/development/testing."
   ]
  },
  {
   "cell_type": "code",
   "execution_count": 30,
   "metadata": {
    "id": "RikPj6QVm7yU"
   },
   "outputs": [],
   "source": [
    "from google.colab import drive\n",
    "import warnings\n",
    "warnings.filterwarnings(\"ignore\")"
   ]
  },
  {
   "cell_type": "code",
   "execution_count": 31,
   "metadata": {
    "colab": {
     "base_uri": "https://localhost:8080/",
     "height": 0
    },
    "id": "UUHhfVPLm75J",
    "outputId": "aae3f857-2286-436b-8e4a-4691f64b6378"
   },
   "outputs": [
    {
     "name": "stdout",
     "output_type": "stream",
     "text": [
      "Drive already mounted at /content/drive; to attempt to forcibly remount, call drive.mount(\"/content/drive\", force_remount=True).\n"
     ]
    }
   ],
   "source": [
    "import pandas as pd\n",
    "drive.mount('/content/drive')\n",
    "# Load dataset\n",
    "df = pd.read_csv('/content/drive/MyDrive/amazon_reviews.csv')"
   ]
  },
  {
   "cell_type": "code",
   "execution_count": 33,
   "metadata": {
    "colab": {
     "base_uri": "https://localhost:8080/",
     "height": 0
    },
    "id": "65sdrzZGm77u",
    "outputId": "72f6f42c-71d4-4b2c-94ee-4594f3ae1815"
   },
   "outputs": [
    {
     "name": "stderr",
     "output_type": "stream",
     "text": [
      "[nltk_data] Downloading package stopwords to /root/nltk_data...\n",
      "[nltk_data]   Package stopwords is already up-to-date!\n",
      "[nltk_data] Downloading package punkt to /root/nltk_data...\n",
      "[nltk_data]   Package punkt is already up-to-date!\n"
     ]
    },
    {
     "data": {
      "text/plain": [
       "True"
      ]
     },
     "execution_count": 33,
     "metadata": {},
     "output_type": "execute_result"
    }
   ],
   "source": [
    "import nltk\n",
    "nltk.download('stopwords')\n",
    "nltk.download('punkt')"
   ]
  },
  {
   "cell_type": "code",
   "execution_count": 34,
   "metadata": {
    "id": "QxjO05Y8nDjt"
   },
   "outputs": [],
   "source": [
    "\n",
    "import numpy as np\n",
    "from sklearn.model_selection import train_test_split\n",
    "from nltk.corpus import stopwords\n",
    "from nltk.tokenize import word_tokenize\n",
    "import string\n",
    "\n",
    "# Preprocess the reviews\n",
    "df['reviewText'] = df['reviewText'].str.lower()  # Convert text to lowercase\n",
    "df['reviewText'] = df['reviewText'].str.translate(str.maketrans('', '', string.punctuation))  # Remove punctuations\n",
    "df['reviewText'] = df['reviewText'].str.translate(str.maketrans('', '', string.digits))  # Remove numbers\n",
    "\n",
    "stop_words = set(stopwords.words('english'))\n",
    "df['reviewText'] = df['reviewText'].apply(lambda x: ' '.join(word for word in word_tokenize(x) if word not in stop_words) if isinstance(x, str) else x)  # Remove stopwords and tokenize\n",
    "\n",
    "# Assign binary class labels for binary classification problem\n",
    "df['sentiment'] = df['overall'].apply(lambda x: 'positive' if x > 3 else ('negative'))\n",
    "\n"
   ]
  },
  {
   "cell_type": "code",
   "execution_count": 35,
   "metadata": {
    "id": "APkm6siDnDng"
   },
   "outputs": [],
   "source": [
    "# Split the data into training, validation and testing sets\n",
    "train, temp = train_test_split(df, test_size=0.2, random_state=42)\n",
    "valid, test = train_test_split(temp, test_size=0.5, random_state=42)\n",
    "\n"
   ]
  },
  {
   "cell_type": "code",
   "execution_count": 36,
   "metadata": {
    "colab": {
     "base_uri": "https://localhost:8080/",
     "height": 0
    },
    "id": "Okwj1AlonDvP",
    "outputId": "72db66aa-e83b-462a-9f4d-05124db12afd"
   },
   "outputs": [
    {
     "name": "stdout",
     "output_type": "stream",
     "text": [
      "Number of training samples: 3932\n",
      "Number of validation samples: 491\n",
      "Number of testing samples: 492\n",
      "Training set positive reviews: 3561\n",
      "Training set negative reviews: 371\n",
      "Validation set positive reviews: 441\n",
      "Validation set negative reviews: 50\n",
      "Testing set positive reviews: 447\n",
      "Testing set negative reviews: 45\n",
      "Minimum number of tokens in a review: 1\n",
      "Average number of tokens in a review: 25.37891737891738\n",
      "Maximum number of tokens in a review: 781\n"
     ]
    }
   ],
   "source": [
    "# Print basic statistics of the data\n",
    "print(f\"Number of training samples: {train.shape[0]}\")\n",
    "print(f\"Number of validation samples: {valid.shape[0]}\")\n",
    "print(f\"Number of testing samples: {test.shape[0]}\")\n",
    "\n",
    "print(f\"Training set positive reviews: {train[train['sentiment']=='positive'].shape[0]}\")\n",
    "print(f\"Training set negative reviews: {train[train['sentiment']=='negative'].shape[0]}\")\n",
    "\n",
    "print(f\"Validation set positive reviews: {valid[valid['sentiment']=='positive'].shape[0]}\")\n",
    "print(f\"Validation set negative reviews: {valid[valid['sentiment']=='negative'].shape[0]}\")\n",
    "\n",
    "print(f\"Testing set positive reviews: {test[test['sentiment']=='positive'].shape[0]}\")\n",
    "print(f\"Testing set negative reviews: {test[test['sentiment']=='negative'].shape[0]}\")\n",
    "df = df[df['reviewText'].apply(lambda x: isinstance(x, str))]\n",
    "\n",
    "print(f\"Minimum number of tokens in a review: {df['reviewText'].apply(lambda x: len(x.split())).min()}\")\n",
    "print(f\"Average number of tokens in a review: {df['reviewText'].apply(lambda x: len(x.split())).mean()}\")\n",
    "print(f\"Maximum number of tokens in a review: {df['reviewText'].apply(lambda x: len(x.split())).max()}\")\n"
   ]
  },
  {
   "cell_type": "markdown",
   "metadata": {
    "id": "talyEFarnVwa"
   },
   "source": [
    "# **2. Representation of Texts: word vectors (40 points)** \n",
    "\n",
    "# 1) Count-based word vectors with co-occurrence matrix (20 points, 5 points for each question)\n",
    "a. Please implement a function named get_vacab(corpus) that returns corpus_words,\n",
    "which is the list of all the distinct words used in the review corpus. You can do this\n",
    "with ‘for’ loops, but it's more efficient to do it with Python list comprehensions. The\n",
    "returned corpus_words should be sorted. You can use python's sorted function for this."
   ]
  },
  {
   "cell_type": "code",
   "execution_count": 37,
   "metadata": {
    "colab": {
     "base_uri": "https://localhost:8080/",
     "height": 0
    },
    "id": "Xz0plOXfoULE",
    "outputId": "48807149-0aac-43d1-b257-17b310309d08"
   },
   "outputs": [
    {
     "name": "stderr",
     "output_type": "stream",
     "text": [
      "[nltk_data] Downloading package reuters to /root/nltk_data...\n",
      "[nltk_data]   Package reuters is already up-to-date!\n"
     ]
    }
   ],
   "source": [
    "# All Import Statements Defined Here\n",
    "# Note: Do not add to this list.\n",
    "# ----------------\n",
    "\n",
    "import sys\n",
    "assert sys.version_info[0]==3\n",
    "assert sys.version_info[1] >= 5\n",
    "\n",
    "from gensim.models import KeyedVectors\n",
    "from gensim.test.utils import datapath\n",
    "import pprint\n",
    "import matplotlib.pyplot as plt\n",
    "plt.rcParams['figure.figsize'] = [10, 5]\n",
    "\n",
    "nltk.download('reuters')\n",
    "from nltk.corpus import reuters\n",
    "import numpy as np\n",
    "import random\n",
    "import scipy as sp\n",
    "from sklearn.decomposition import TruncatedSVD\n",
    "from sklearn.decomposition import PCA\n",
    "\n",
    "START_TOKEN = '<START>'\n",
    "END_TOKEN = '<END>'\n",
    "\n",
    "np.random.seed(0)\n",
    "random.seed(0)"
   ]
  },
  {
   "cell_type": "code",
   "execution_count": 38,
   "metadata": {
    "id": "LycKkmacoiHU"
   },
   "outputs": [],
   "source": [
    "def get_vacab():\n",
    "\n",
    "    files = reuters.fileids()\n",
    "    return [[START_TOKEN] + [w.lower() for w in list(reuters.words(f))] + [END_TOKEN] for f in files]"
   ]
  },
  {
   "cell_type": "code",
   "execution_count": 39,
   "metadata": {
    "colab": {
     "base_uri": "https://localhost:8080/",
     "height": 0
    },
    "id": "MqKkjhrXoiKA",
    "outputId": "e35cd3af-bccd-459a-d67d-1ba4e7c480e3"
   },
   "outputs": [
    {
     "name": "stdout",
     "output_type": "stream",
     "text": [
      "[['<START>', 'asian', 'exporters', 'fear', 'damage', 'from', 'u', '.', 's', '.-', 'japan', 'rift',\n",
      "  'mounting', 'trade', 'friction', 'between', 'the', 'u', '.', 's', '.', 'and', 'japan', 'has',\n",
      "  'raised', 'fears', 'among', 'many', 'of', 'asia', \"'\", 's', 'exporting', 'nations', 'that', 'the',\n",
      "  'row', 'could', 'inflict', 'far', '-', 'reaching', 'economic', 'damage', ',', 'businessmen',\n",
      "  'and', 'officials', 'said', '.', 'they', 'told', 'reuter', 'correspondents', 'in', 'asian',\n",
      "  'capitals', 'a', 'u', '.', 's', '.', 'move', 'against', 'japan', 'might', 'boost',\n",
      "  'protectionist', 'sentiment', 'in', 'the', 'u', '.', 's', '.', 'and', 'lead', 'to', 'curbs', 'on',\n",
      "  'american', 'imports', 'of', 'their', 'products', '.', 'but', 'some', 'exporters', 'said', 'that',\n",
      "  'while', 'the', 'conflict', 'would', 'hurt', 'them', 'in', 'the', 'long', '-', 'run', ',', 'in',\n",
      "  'the', 'short', '-', 'term', 'tokyo', \"'\", 's', 'loss', 'might', 'be', 'their', 'gain', '.',\n",
      "  'the', 'u', '.', 's', '.', 'has', 'said', 'it', 'will', 'impose', '300', 'mln', 'dlrs', 'of',\n",
      "  'tariffs', 'on', 'imports', 'of', 'japanese', 'electronics', 'goods', 'on', 'april', '17', ',',\n",
      "  'in', 'retaliation', 'for', 'japan', \"'\", 's', 'alleged', 'failure', 'to', 'stick', 'to', 'a',\n",
      "  'pact', 'not', 'to', 'sell', 'semiconductors', 'on', 'world', 'markets', 'at', 'below', 'cost',\n",
      "  '.', 'unofficial', 'japanese', 'estimates', 'put', 'the', 'impact', 'of', 'the', 'tariffs', 'at',\n",
      "  '10', 'billion', 'dlrs', 'and', 'spokesmen', 'for', 'major', 'electronics', 'firms', 'said',\n",
      "  'they', 'would', 'virtually', 'halt', 'exports', 'of', 'products', 'hit', 'by', 'the', 'new',\n",
      "  'taxes', '.', '\"', 'we', 'wouldn', \"'\", 't', 'be', 'able', 'to', 'do', 'business', ',\"', 'said',\n",
      "  'a', 'spokesman', 'for', 'leading', 'japanese', 'electronics', 'firm', 'matsushita', 'electric',\n",
      "  'industrial', 'co', 'ltd', '&', 'lt', ';', 'mc', '.', 't', '>.', '\"', 'if', 'the', 'tariffs',\n",
      "  'remain', 'in', 'place', 'for', 'any', 'length', 'of', 'time', 'beyond', 'a', 'few', 'months',\n",
      "  'it', 'will', 'mean', 'the', 'complete', 'erosion', 'of', 'exports', '(', 'of', 'goods',\n",
      "  'subject', 'to', 'tariffs', ')', 'to', 'the', 'u', '.', 's', '.,\"', 'said', 'tom', 'murtha', ',',\n",
      "  'a', 'stock', 'analyst', 'at', 'the', 'tokyo', 'office', 'of', 'broker', '&', 'lt', ';', 'james',\n",
      "  'capel', 'and', 'co', '>.', 'in', 'taiwan', ',', 'businessmen', 'and', 'officials', 'are', 'also',\n",
      "  'worried', '.', '\"', 'we', 'are', 'aware', 'of', 'the', 'seriousness', 'of', 'the', 'u', '.', 's',\n",
      "  '.', 'threat', 'against', 'japan', 'because', 'it', 'serves', 'as', 'a', 'warning', 'to', 'us',\n",
      "  ',\"', 'said', 'a', 'senior', 'taiwanese', 'trade', 'official', 'who', 'asked', 'not', 'to', 'be',\n",
      "  'named', '.', 'taiwan', 'had', 'a', 'trade', 'trade', 'surplus', 'of', '15', '.', '6', 'billion',\n",
      "  'dlrs', 'last', 'year', ',', '95', 'pct', 'of', 'it', 'with', 'the', 'u', '.', 's', '.', 'the',\n",
      "  'surplus', 'helped', 'swell', 'taiwan', \"'\", 's', 'foreign', 'exchange', 'reserves', 'to', '53',\n",
      "  'billion', 'dlrs', ',', 'among', 'the', 'world', \"'\", 's', 'largest', '.', '\"', 'we', 'must',\n",
      "  'quickly', 'open', 'our', 'markets', ',', 'remove', 'trade', 'barriers', 'and', 'cut', 'import',\n",
      "  'tariffs', 'to', 'allow', 'imports', 'of', 'u', '.', 's', '.', 'products', ',', 'if', 'we',\n",
      "  'want', 'to', 'defuse', 'problems', 'from', 'possible', 'u', '.', 's', '.', 'retaliation', ',\"',\n",
      "  'said', 'paul', 'sheen', ',', 'chairman', 'of', 'textile', 'exporters', '&', 'lt', ';', 'taiwan',\n",
      "  'safe', 'group', '>.', 'a', 'senior', 'official', 'of', 'south', 'korea', \"'\", 's', 'trade',\n",
      "  'promotion', 'association', 'said', 'the', 'trade', 'dispute', 'between', 'the', 'u', '.', 's',\n",
      "  '.', 'and', 'japan', 'might', 'also', 'lead', 'to', 'pressure', 'on', 'south', 'korea', ',',\n",
      "  'whose', 'chief', 'exports', 'are', 'similar', 'to', 'those', 'of', 'japan', '.', 'last', 'year',\n",
      "  'south', 'korea', 'had', 'a', 'trade', 'surplus', 'of', '7', '.', '1', 'billion', 'dlrs', 'with',\n",
      "  'the', 'u', '.', 's', '.,', 'up', 'from', '4', '.', '9', 'billion', 'dlrs', 'in', '1985', '.',\n",
      "  'in', 'malaysia', ',', 'trade', 'officers', 'and', 'businessmen', 'said', 'tough', 'curbs',\n",
      "  'against', 'japan', 'might', 'allow', 'hard', '-', 'hit', 'producers', 'of', 'semiconductors',\n",
      "  'in', 'third', 'countries', 'to', 'expand', 'their', 'sales', 'to', 'the', 'u', '.', 's', '.',\n",
      "  'in', 'hong', 'kong', ',', 'where', 'newspapers', 'have', 'alleged', 'japan', 'has', 'been',\n",
      "  'selling', 'below', '-', 'cost', 'semiconductors', ',', 'some', 'electronics', 'manufacturers',\n",
      "  'share', 'that', 'view', '.', 'but', 'other', 'businessmen', 'said', 'such', 'a', 'short', '-',\n",
      "  'term', 'commercial', 'advantage', 'would', 'be', 'outweighed', 'by', 'further', 'u', '.', 's',\n",
      "  '.', 'pressure', 'to', 'block', 'imports', '.', '\"', 'that', 'is', 'a', 'very', 'short', '-',\n",
      "  'term', 'view', ',\"', 'said', 'lawrence', 'mills', ',', 'director', '-', 'general', 'of', 'the',\n",
      "  'federation', 'of', 'hong', 'kong', 'industry', '.', '\"', 'if', 'the', 'whole', 'purpose', 'is',\n",
      "  'to', 'prevent', 'imports', ',', 'one', 'day', 'it', 'will', 'be', 'extended', 'to', 'other',\n",
      "  'sources', '.', 'much', 'more', 'serious', 'for', 'hong', 'kong', 'is', 'the', 'disadvantage',\n",
      "  'of', 'action', 'restraining', 'trade', ',\"', 'he', 'said', '.', 'the', 'u', '.', 's', '.',\n",
      "  'last', 'year', 'was', 'hong', 'kong', \"'\", 's', 'biggest', 'export', 'market', ',', 'accounting',\n",
      "  'for', 'over', '30', 'pct', 'of', 'domestically', 'produced', 'exports', '.', 'the', 'australian',\n",
      "  'government', 'is', 'awaiting', 'the', 'outcome', 'of', 'trade', 'talks', 'between', 'the', 'u',\n",
      "  '.', 's', '.', 'and', 'japan', 'with', 'interest', 'and', 'concern', ',', 'industry', 'minister',\n",
      "  'john', 'button', 'said', 'in', 'canberra', 'last', 'friday', '.', '\"', 'this', 'kind', 'of',\n",
      "  'deterioration', 'in', 'trade', 'relations', 'between', 'two', 'countries', 'which', 'are',\n",
      "  'major', 'trading', 'partners', 'of', 'ours', 'is', 'a', 'very', 'serious', 'matter', ',\"',\n",
      "  'button', 'said', '.', 'he', 'said', 'australia', \"'\", 's', 'concerns', 'centred', 'on', 'coal',\n",
      "  'and', 'beef', ',', 'australia', \"'\", 's', 'two', 'largest', 'exports', 'to', 'japan', 'and',\n",
      "  'also', 'significant', 'u', '.', 's', '.', 'exports', 'to', 'that', 'country', '.', 'meanwhile',\n",
      "  'u', '.', 's', '.-', 'japanese', 'diplomatic', 'manoeuvres', 'to', 'solve', 'the', 'trade',\n",
      "  'stand', '-', 'off', 'continue', '.', 'japan', \"'\", 's', 'ruling', 'liberal', 'democratic',\n",
      "  'party', 'yesterday', 'outlined', 'a', 'package', 'of', 'economic', 'measures', 'to', 'boost',\n",
      "  'the', 'japanese', 'economy', '.', 'the', 'measures', 'proposed', 'include', 'a', 'large',\n",
      "  'supplementary', 'budget', 'and', 'record', 'public', 'works', 'spending', 'in', 'the', 'first',\n",
      "  'half', 'of', 'the', 'financial', 'year', '.', 'they', 'also', 'call', 'for', 'stepped', '-',\n",
      "  'up', 'spending', 'as', 'an', 'emergency', 'measure', 'to', 'stimulate', 'the', 'economy',\n",
      "  'despite', 'prime', 'minister', 'yasuhiro', 'nakasone', \"'\", 's', 'avowed', 'fiscal', 'reform',\n",
      "  'program', '.', 'deputy', 'u', '.', 's', '.', 'trade', 'representative', 'michael', 'smith',\n",
      "  'and', 'makoto', 'kuroda', ',', 'japan', \"'\", 's', 'deputy', 'minister', 'of', 'international',\n",
      "  'trade', 'and', 'industry', '(', 'miti', '),', 'are', 'due', 'to', 'meet', 'in', 'washington',\n",
      "  'this', 'week', 'in', 'an', 'effort', 'to', 'end', 'the', 'dispute', '.', '<END>'],\n",
      " ['<START>', 'china', 'daily', 'says', 'vermin', 'eat', '7', '-', '12', 'pct', 'grain', 'stocks',\n",
      "  'a', 'survey', 'of', '19', 'provinces', 'and', 'seven', 'cities', 'showed', 'vermin', 'consume',\n",
      "  'between', 'seven', 'and', '12', 'pct', 'of', 'china', \"'\", 's', 'grain', 'stocks', ',', 'the',\n",
      "  'china', 'daily', 'said', '.', 'it', 'also', 'said', 'that', 'each', 'year', '1', '.', '575',\n",
      "  'mln', 'tonnes', ',', 'or', '25', 'pct', ',', 'of', 'china', \"'\", 's', 'fruit', 'output', 'are',\n",
      "  'left', 'to', 'rot', ',', 'and', '2', '.', '1', 'mln', 'tonnes', ',', 'or', 'up', 'to', '30',\n",
      "  'pct', ',', 'of', 'its', 'vegetables', '.', 'the', 'paper', 'blamed', 'the', 'waste', 'on',\n",
      "  'inadequate', 'storage', 'and', 'bad', 'preservation', 'methods', '.', 'it', 'said', 'the',\n",
      "  'government', 'had', 'launched', 'a', 'national', 'programme', 'to', 'reduce', 'waste', ',',\n",
      "  'calling', 'for', 'improved', 'technology', 'in', 'storage', 'and', 'preservation', ',', 'and',\n",
      "  'greater', 'production', 'of', 'additives', '.', 'the', 'paper', 'gave', 'no', 'further',\n",
      "  'details', '.', '<END>'],\n",
      " ['<START>', 'japan', 'to', 'revise', 'long', '-', 'term', 'energy', 'demand', 'downwards', 'the',\n",
      "  'ministry', 'of', 'international', 'trade', 'and', 'industry', '(', 'miti', ')', 'will', 'revise',\n",
      "  'its', 'long', '-', 'term', 'energy', 'supply', '/', 'demand', 'outlook', 'by', 'august', 'to',\n",
      "  'meet', 'a', 'forecast', 'downtrend', 'in', 'japanese', 'energy', 'demand', ',', 'ministry',\n",
      "  'officials', 'said', '.', 'miti', 'is', 'expected', 'to', 'lower', 'the', 'projection', 'for',\n",
      "  'primary', 'energy', 'supplies', 'in', 'the', 'year', '2000', 'to', '550', 'mln', 'kilolitres',\n",
      "  '(', 'kl', ')', 'from', '600', 'mln', ',', 'they', 'said', '.', 'the', 'decision', 'follows',\n",
      "  'the', 'emergence', 'of', 'structural', 'changes', 'in', 'japanese', 'industry', 'following',\n",
      "  'the', 'rise', 'in', 'the', 'value', 'of', 'the', 'yen', 'and', 'a', 'decline', 'in', 'domestic',\n",
      "  'electric', 'power', 'demand', '.', 'miti', 'is', 'planning', 'to', 'work', 'out', 'a', 'revised',\n",
      "  'energy', 'supply', '/', 'demand', 'outlook', 'through', 'deliberations', 'of', 'committee',\n",
      "  'meetings', 'of', 'the', 'agency', 'of', 'natural', 'resources', 'and', 'energy', ',', 'the',\n",
      "  'officials', 'said', '.', 'they', 'said', 'miti', 'will', 'also', 'review', 'the', 'breakdown',\n",
      "  'of', 'energy', 'supply', 'sources', ',', 'including', 'oil', ',', 'nuclear', ',', 'coal', 'and',\n",
      "  'natural', 'gas', '.', 'nuclear', 'energy', 'provided', 'the', 'bulk', 'of', 'japan', \"'\", 's',\n",
      "  'electric', 'power', 'in', 'the', 'fiscal', 'year', 'ended', 'march', '31', ',', 'supplying',\n",
      "  'an', 'estimated', '27', 'pct', 'on', 'a', 'kilowatt', '/', 'hour', 'basis', ',', 'followed',\n",
      "  'by', 'oil', '(', '23', 'pct', ')', 'and', 'liquefied', 'natural', 'gas', '(', '21', 'pct', '),',\n",
      "  'they', 'noted', '.', '<END>']]\n"
     ]
    }
   ],
   "source": [
    "reuters_corpus = get_vacab()\n",
    "pprint.pprint(reuters_corpus[:3], compact=True, width=100)"
   ]
  },
  {
   "cell_type": "code",
   "execution_count": 40,
   "metadata": {
    "id": "EtM1ao2doiMm"
   },
   "outputs": [],
   "source": [
    "def distinct_words(corpus):\n",
    "\n",
    "    corpus_words = []\n",
    "    num_corpus_words = -1\n",
    "\n",
    "    corpus_words = sorted(list(set([words for rows in corpus for words in rows])))\n",
    "    num_corpus_words = len(corpus_words)\n",
    "\n",
    "    return corpus_words, num_corpus_words"
   ]
  },
  {
   "cell_type": "code",
   "execution_count": 41,
   "metadata": {
    "colab": {
     "base_uri": "https://localhost:8080/",
     "height": 0
    },
    "id": "COPVK302o2Vj",
    "outputId": "b4a0ae21-ea5e-4911-e58e-eb60f4127514"
   },
   "outputs": [
    {
     "name": "stdout",
     "output_type": "stream",
     "text": [
      "--------------------------------------------------------------------------------\n",
      "Passed All Tests!\n",
      "--------------------------------------------------------------------------------\n"
     ]
    }
   ],
   "source": [
    "# Define toy corpus\n",
    "test_corpus = [\"{} All that glitters isn't gold {}\".format(START_TOKEN, END_TOKEN).split(\" \"), \"{} All's well that ends well {}\".format(START_TOKEN, END_TOKEN).split(\" \")]\n",
    "test_corpus_words, num_corpus_words = distinct_words(test_corpus)\n",
    "\n",
    "# Correct answers\n",
    "ans_test_corpus_words = sorted([START_TOKEN, \"All\", \"ends\", \"that\", \"gold\", \"All's\", \"glitters\", \"isn't\", \"well\", END_TOKEN])\n",
    "ans_num_corpus_words = len(ans_test_corpus_words)\n",
    "\n",
    "# Test correct number of words\n",
    "assert(num_corpus_words == ans_num_corpus_words), \"Incorrect number of distinct words. Correct: {}. Yours: {}\".format(ans_num_corpus_words, num_corpus_words)\n",
    "\n",
    "\n",
    "# Test correct words\n",
    "assert (test_corpus_words == ans_test_corpus_words), \"Incorrect corpus_words.\\nCorrect: {}\\nYours:   {}\".format(str(ans_test_corpus_words), str(test_corpus_words))\n",
    "\n",
    "# Print Success\n",
    "print (\"-\" * 80)\n",
    "print(\"Passed All Tests!\")\n",
    "print (\"-\" * 80)"
   ]
  },
  {
   "cell_type": "markdown",
   "metadata": {
    "id": "iY6G2NIb0Ccl"
   },
   "source": [
    "b. Based on the word vocabulary obtained with get_vacab(corpus) function, please\n",
    "implement a function named compute_co_occurrence_matrix(corpus,\n",
    "window_size=4) that returns both M and word2index. Here, M is the co-occurrence\n",
    "matrix of word counts and word2index is a dictionary that maps word to index. The\n",
    "function constructs a co-occurrence matrix for a certain window-size $n$ (with a\n",
    "default of 4), considering words $n$ before and $n$ after the word in the center of the\n",
    "window. You can use numpy to represent vectors, matrices, and tensors"
   ]
  },
  {
   "cell_type": "code",
   "execution_count": 42,
   "metadata": {
    "id": "Eu-zjB8k0Cry"
   },
   "outputs": [],
   "source": [
    "\n",
    "def compute_co_occurrence_matrix(corpus, window_size=4):\n",
    "\n",
    "    words, num_words = distinct_words(corpus)\n",
    "    M = None\n",
    "    word2Ind = {}\n",
    "\n",
    "\n",
    "    M = np.zeros(shape=(num_words, num_words))  # n-by-n matrix filled w/ 0\n",
    "    for i, word in enumerate(words):  # map word to index\n",
    "        word2Ind[word] = i\n",
    "\n",
    "    for doc in corpus:\n",
    "        lwords = [None]*window_size + doc + [None]*window_size\n",
    "\n",
    "        for i in range(len(lwords)):\n",
    "\n",
    "            if (lwords[i] != None):\n",
    "                word_ctr = lwords[i]\n",
    "                words_context = list(filter(None, lwords[i-window_size:i] + lwords[i+1:i+window_size+1]))\n",
    "\n",
    "                for word_con in words_context:\n",
    "                    if (word_ctr != word_con):\n",
    "                        M[word2Ind[word_ctr], word2Ind[word_con]] += 1\n",
    "\n",
    "\n",
    "    return M, word2Ind\n"
   ]
  },
  {
   "cell_type": "markdown",
   "metadata": {
    "id": "9QHDmRHg0fW7"
   },
   "source": [
    "c. Please implement a function named reduce_to_k_dim(M) performs dimensionality\n",
    "reduction on the matrix M to produce k-dimensional embeddings and returns the new\n",
    "matrix M_reduced. Use SVD (use the implementation of Truncated SVD in sklearn\n",
    "sklearn.decomposition.TruncatedSVD, set n_iters = 10) to take the top k components and\n",
    "produce a new matrix of k-dimensional embeddings."
   ]
  },
  {
   "cell_type": "code",
   "execution_count": 43,
   "metadata": {
    "id": "VRStY3LP0foB"
   },
   "outputs": [],
   "source": [
    "def reduce_to_k_dim(M, k=2):\n",
    "\n",
    "    n_iters = 10     # Use this parameter in your call to `TruncatedSVD`\n",
    "    M_reduced = None\n",
    "    print(\"Running Truncated SVD over %i words...\" % (M.shape[0]))\n",
    "\n",
    "\n",
    "    svd = TruncatedSVD(n_components=k, n_iter=n_iters)\n",
    "    M_reduced = svd.fit_transform(M)\n",
    "\n",
    "    print(\"Done.\")\n",
    "    return M_reduced"
   ]
  },
  {
   "cell_type": "markdown",
   "metadata": {
    "id": "yv6zMx_H01dA"
   },
   "source": [
    "d. Implement plot_embeddings(M_reduced, word2index, words_to_plot) to plot in a\n",
    "scatterplot the embeddings of the words specified in the list ‘words_to_plot’. Here,\n",
    "‘M_reduced’ is the matrix of 2-dimensional word embeddings obtained in question c.\n",
    "word2index is the dictionary that maps words to indices for the embedding matrix\n",
    "obtained in question b.\n"
   ]
  },
  {
   "cell_type": "markdown",
   "metadata": {
    "id": "fNE6uuiY06Sq"
   },
   "source": [
    "Use the implemented function to get the plot for the following list of words\n"
   ]
  },
  {
   "cell_type": "markdown",
   "metadata": {
    "id": "8lFoIpeh06W5"
   },
   "source": [
    "words_to_plot=[‘purchase’, ‘buy’, ‘work’, ‘got’, ‘ordered’, ‘received’, ‘product’,\n",
    "‘item’, ‘deal’, ‘use’], and show the plot."
   ]
  },
  {
   "cell_type": "code",
   "execution_count": 44,
   "metadata": {
    "id": "tTEoRdPs05i3"
   },
   "outputs": [],
   "source": [
    "def plot_embeddings(M_reduced, word2Ind, words):\n",
    "\n",
    "    for word in words:\n",
    "        wid = word2Ind[word]\n",
    "        x = M_reduced[wid, 0]\n",
    "        y = M_reduced[wid, 1]\n",
    "        plt.scatter(x, y, marker='x', color='red')\n",
    "        plt.text(x, y, word, fontsize=9 )\n",
    "    plt.show()\n"
   ]
  },
  {
   "cell_type": "code",
   "execution_count": 45,
   "metadata": {
    "colab": {
     "base_uri": "https://localhost:8080/",
     "height": 480
    },
    "id": "SOeWqbtf1IMK",
    "outputId": "dddb2b13-f62b-4b9b-c246-5b25ba109fc9"
   },
   "outputs": [
    {
     "name": "stdout",
     "output_type": "stream",
     "text": [
      "Running Truncated SVD over 31080 words...\n",
      "Done.\n"
     ]
    },
    {
     "data": {
      "image/png": "[encoded data removed]",
      "text/plain": [
       "<Figure size 1000x500 with 1 Axes>"
      ]
     },
     "metadata": {},
     "output_type": "display_data"
    }
   ],
   "source": [
    "# -----------------------------\n",
    "# For producing the plot\n",
    "# ------------------------------\n",
    "reuters_corpus = get_vacab()\n",
    "M_co_occurrence, word2Ind_co_occurrence = compute_co_occurrence_matrix(reuters_corpus)\n",
    "M_reduced_co_occurrence = reduce_to_k_dim(M_co_occurrence, k=2)\n",
    "\n",
    "# Rescale (normalize) the rows to make them each of unit-length\n",
    "M_lengths = np.linalg.norm(M_reduced_co_occurrence, axis=1)\n",
    "M_normalized = M_reduced_co_occurrence / M_lengths[:, np.newaxis] # broadcasting\n",
    "\n",
    "words = ['purchase', 'buy', 'work', 'got', 'ordered', 'received', 'product', 'item', 'deal', 'use']\n",
    "\n",
    "plot_embeddings(M_normalized, word2Ind_co_occurrence, words)"
   ]
  },
  {
   "cell_type": "markdown",
   "metadata": {
    "id": "qGwAmr1b1Wq6"
   },
   "source": [
    "# 2) Prediction-based word vectors from Glove (20 points, 5 points for each question)"
   ]
  },
  {
   "cell_type": "markdown",
   "metadata": {
    "id": "euiDqfjZ1dbw"
   },
   "source": [
    "a. Please use the provided load_embedding_model() function to load the GloVe\n",
    "embeddings. Note: If this is your first time to run these cells, i.e. download the\n",
    "embedding model, it will take a couple minutes to run. If you've run these cells before,\n",
    "rerunning them will load the model without redownloading it, which will take about 1\n",
    "to 2 minutes."
   ]
  },
  {
   "cell_type": "code",
   "execution_count": 46,
   "metadata": {
    "id": "FmDDdr5y1cc3"
   },
   "outputs": [],
   "source": [
    "def load_embedding_model():\n",
    "\n",
    " import gensim.downloader as api\n",
    " wv_from_bin = api.load(\"glove-wiki-gigaword-200\")\n",
    "\n",
    " print(\"Loaded vocab size %i\" % len(list(wv_from_bin.index_to_key)))\n",
    " return wv_from_bin"
   ]
  },
  {
   "cell_type": "code",
   "execution_count": 47,
   "metadata": {
    "colab": {
     "base_uri": "https://localhost:8080/",
     "height": 0
    },
    "id": "w-G0OuQ111oB",
    "outputId": "3ff78cfd-c2c4-4665-d6f7-835ad11ba291"
   },
   "outputs": [
    {
     "name": "stdout",
     "output_type": "stream",
     "text": [
      "Loaded vocab size 400000\n"
     ]
    }
   ],
   "source": [
    "# Run this Cell to Load Word Vectors\n",
    "# Note: This will take several minutes\n",
    "\n",
    "wv_from_bin = load_embedding_model()"
   ]
  },
  {
   "cell_type": "markdown",
   "metadata": {
    "id": "qVCZcMEY151q"
   },
   "source": [
    "b. Select the words in the vocabulary returned in 1)a and get the corresponding GloVe\n",
    "vectors. You can adapt the provided function get_matrix_of_vectors(wv_from_bin,\n",
    "required_words) to select the Glove vectors and put them in a matrix M."
   ]
  },
  {
   "cell_type": "code",
   "execution_count": 48,
   "metadata": {
    "id": "Yo2fMEp218bl"
   },
   "outputs": [],
   "source": [
    "def get_matrix_of_vectors(wv_from_bin, required_words=['purchase', 'buy', 'work', 'got', 'ordered', 'received', 'product', 'item', 'deal', 'use']):\n",
    "\n",
    "    import random\n",
    "    words = list(wv_from_bin.index_to_key)\n",
    "    print(\"Shuffling words ...\")\n",
    "    random.seed(224)\n",
    "    random.shuffle(words)\n",
    "    #words = words[:10000]\n",
    "    print(\"Putting %i words into word2Ind and matrix M...\" % len(words))\n",
    "    word2Ind = {}\n",
    "    M = []\n",
    "    curInd = 0\n",
    "    for w in words:\n",
    "        try:\n",
    "            M.append(wv_from_bin.word_vec(w))\n",
    "            word2Ind[w] = curInd\n",
    "            curInd += 1\n",
    "        except KeyError:\n",
    "            continue\n",
    "    for w in required_words:\n",
    "        if w in words:\n",
    "            continue\n",
    "        try:\n",
    "            M.append(wv_from_bin.word_vec(w))\n",
    "            word2Ind[w] = curInd\n",
    "            curInd += 1\n",
    "        except KeyError:\n",
    "            continue\n",
    "    M = np.stack(M)\n",
    "    print(\"Done.\")\n",
    "    return M, word2Ind"
   ]
  },
  {
   "cell_type": "markdown",
   "metadata": {
    "id": "uUiC1ASZ2plb"
   },
   "source": [
    "c. Use the function reduce_to_k_dim() you implemented in 1)c to reduce the vectors to 2\n",
    "dimension. Similar to what you did in 1)c."
   ]
  },
  {
   "cell_type": "code",
   "execution_count": 49,
   "metadata": {
    "colab": {
     "base_uri": "https://localhost:8080/",
     "height": 0
    },
    "id": "lbStleEJ2V8a",
    "outputId": "e0d4b813-299d-416d-8535-c11bf0e3ca88"
   },
   "outputs": [
    {
     "name": "stdout",
     "output_type": "stream",
     "text": [
      "Shuffling words ...\n",
      "Putting 400000 words into word2Ind and matrix M...\n",
      "Done.\n",
      "Running Truncated SVD over 400000 words...\n",
      "Done.\n"
     ]
    }
   ],
   "source": [
    "# -----------------------------------------------------------------\n",
    "# Code to Reduce 200-Dimensional Word Embeddings to k Dimensions\n",
    "\n",
    "# -----------------------------------------------------------------\n",
    "M, word2Ind = get_matrix_of_vectors(wv_from_bin)\n",
    "M_reduced = reduce_to_k_dim(M, k=2)\n"
   ]
  },
  {
   "cell_type": "markdown",
   "metadata": {
    "id": "4OiLo8o43FC6"
   },
   "source": [
    "d. Use the plot_embeddings function in 1)d to get the plot for the same set of words in\n",
    "1)d. Compare the differences of the plot in 1)d and 2)d, provide some analysis, and\n",
    "describe your findings."
   ]
  },
  {
   "cell_type": "code",
   "execution_count": 50,
   "metadata": {
    "colab": {
     "base_uri": "https://localhost:8080/",
     "height": 445
    },
    "id": "oTWHBlGM2V9g",
    "outputId": "cdb8f639-3208-4c4d-a11f-be482497bd4a"
   },
   "outputs": [
    {
     "data": {
      "image/png": "[encoded data removed]",
      "text/plain": [
       "<Figure size 1000x500 with 1 Axes>"
      ]
     },
     "metadata": {},
     "output_type": "display_data"
    }
   ],
   "source": [
    "\n",
    "# Rescale (normalize) the rows to make them each of unit-length\n",
    "M_lengths = np.linalg.norm(M_reduced, axis=1)\n",
    "M_reduced_normalized = M_reduced / M_lengths[:, np.newaxis] # broadcasting\n",
    "\n",
    "plot_embeddings(M_reduced_normalized, word2Ind, words)"
   ]
  },
  {
   "cell_type": "markdown",
   "metadata": {
    "id": "IdKA4a1B3frz"
   },
   "source": [
    "# Task 2: Sentiment Classification Algorithms (40 points)"
   ]
  },
  {
   "cell_type": "markdown",
   "metadata": {
    "id": "3_qRoWQY3f4q"
   },
   "source": [
    "**3. Perform sentiment analysis with classification**"
   ]
  },
  {
   "cell_type": "markdown",
   "metadata": {
    "id": "8y99JzMi3xuB"
   },
   "source": [
    "1) Review embeddings (5 points): Similar to what you did in 2)c, use the function\n",
    "reduce_to_k_dim() you implemented in 1)c to reduce the vectors to 128 dimension. Based\n",
    "on the word embeddings, get the review embedding by taking the average of the word\n",
    "embeddings in each review. Write a function for getting review embeddings for each\n",
    "review."
   ]
  },
  {
   "cell_type": "code",
   "execution_count": 51,
   "metadata": {
    "colab": {
     "base_uri": "https://localhost:8080/",
     "height": 0
    },
    "id": "9T476qcp3tl0",
    "outputId": "24e3ce49-59c3-4e37-aa34-c73db6994995"
   },
   "outputs": [
    {
     "name": "stdout",
     "output_type": "stream",
     "text": [
      "Running Truncated SVD over 400000 words...\n",
      "Done.\n"
     ]
    }
   ],
   "source": [
    "# Reduce the vectors to 128 dimension\n",
    "M_reduced_128 = reduce_to_k_dim(M, k=128)\n",
    "\n",
    "# Get the review embedding by taking the average of the word embeddings in each review\n",
    "def get_review_embedding(review):\n",
    "    vectors = [M_reduced_128[word2Ind[word]] for word in review.split() if word in word2Ind]\n",
    "    if vectors:\n",
    "        return np.mean(vectors, axis=0)\n",
    "    else:\n",
    "        return np.zeros(128)  # Return a zero vector for reviews that don't contain any known words\n",
    "\n",
    "df['review_embedding'] = df['reviewText'].apply(get_review_embedding)"
   ]
  },
  {
   "cell_type": "code",
   "execution_count": 52,
   "metadata": {
    "colab": {
     "base_uri": "https://localhost:8080/",
     "height": 0
    },
    "id": "gmnz0bdOtEW0",
    "outputId": "3e4a0726-6300-4c7b-b7e4-0457f7ac9f87"
   },
   "outputs": [
    {
     "data": {
      "text/plain": [
       "0     [-3.1829236, -0.8144239, 0.03827826, -0.303200...\n",
       "1     [-2.35203, -0.3231382, 0.13174346, -0.36073112...\n",
       "2     [-2.369109, -0.44986385, 0.12435139, -0.405100...\n",
       "3     [-2.436163, -0.20870502, -0.09811036, -0.07423...\n",
       "4     [-2.075853, -0.29811135, -0.062950976, -0.2028...\n",
       "5     [-1.8895564, -0.47151157, -0.118649915, -0.483...\n",
       "6     [-1.9449764, -0.39566407, 0.091739394, -0.4392...\n",
       "7     [-1.9278167, -0.3245768, 0.045230415, -0.52476...\n",
       "8     [-2.169462, -0.20556211, -0.0055067833, -0.140...\n",
       "9     [-2.5042665, -0.37098715, 0.015624534, -0.7367...\n",
       "10    [-2.0663056, -0.5826434, 0.11328509, -0.511737...\n",
       "11    [-1.3647023, -0.26811358, 0.028857425, -0.1198...\n",
       "12    [-2.149139, 0.024202824, -0.09565945, -0.34009...\n",
       "13    [-2.0095496, -0.5382098, 0.02907965, -0.583133...\n",
       "14    [-2.3187273, -0.32076228, 0.1197883, -0.666972...\n",
       "15    [-2.456867, -0.48167196, -0.10617806, -0.51112...\n",
       "16    [-2.4375978, -0.2017469, 0.053999692, -0.42795...\n",
       "17    [-1.8663669, -0.57211727, -0.04163512, -0.4904...\n",
       "18    [-2.1227071, -0.1758215, -0.0199541, -0.363730...\n",
       "19    [-1.112958, -0.048916873, 0.189919, -0.3369919...\n",
       "20    [-1.9270701, -0.6461656, 0.03344535, -0.322039...\n",
       "21    [-2.1449919, -0.3716471, 0.084147274, -0.42963...\n",
       "22    [-2.048107, -0.37422156, 0.09169288, -0.452834...\n",
       "23    [-2.1677446, -0.3863907, -0.06529689, -0.45588...\n",
       "24    [-2.8655517, -0.36250556, -0.17854239, -0.2385...\n",
       "25    [-1.8959643, -0.26383057, -0.17944673, -0.1856...\n",
       "26    [-2.0437133, -0.45990685, 0.07681833, -0.28024...\n",
       "27    [-1.9027169, -0.40994418, 0.127542, -0.5438586...\n",
       "28    [-2.1788373, -0.27409512, -0.032376695, -0.447...\n",
       "29    [-1.7401338, -0.4803661, 0.19049904, -0.314410...\n",
       "Name: review_embedding, dtype: object"
      ]
     },
     "execution_count": 52,
     "metadata": {},
     "output_type": "execute_result"
    }
   ],
   "source": [
    "df['review_embedding'].head(30)"
   ]
  },
  {
   "cell_type": "markdown",
   "metadata": {
    "id": "CFmvl6XF4J0q"
   },
   "source": [
    "2) Models: Please examine the performance of the following two models on the sentiment\n",
    "analysis task. You can use existing implementations of the models and various packages\n",
    "such as sklearn, Tensorflow, Pytorch, etc.\n"
   ]
  },
  {
   "cell_type": "markdown",
   "metadata": {
    "id": "JTXVRcsW4flZ"
   },
   "source": [
    "a. Logistic regression, with L2 regularization (10 points)"
   ]
  },
  {
   "cell_type": "code",
   "execution_count": 53,
   "metadata": {
    "id": "PQmPWUeo4rbw"
   },
   "outputs": [],
   "source": [
    "\n",
    "# Prepare the features and labels for classification\n",
    "X = np.array(df['review_embedding'].tolist())\n",
    "y = (df['sentiment'] == 'positive').astype(int)\n",
    "\n",
    "# Split the data into training and testing sets\n",
    "X_train, X_temp, y_train, y_temp = train_test_split(X, y, test_size=0.2, random_state=42)\n",
    "X_valid, X_test, y_valid, y_test = train_test_split(X_temp, y_temp, test_size=0.5, random_state=42)\n"
   ]
  },
  {
   "cell_type": "code",
   "execution_count": 54,
   "metadata": {
    "colab": {
     "base_uri": "https://localhost:8080/",
     "height": 75
    },
    "id": "e9CmEfZo4rZE",
    "outputId": "203e9db1-a412-4729-804f-bd94cde092d5"
   },
   "outputs": [
    {
     "data": {
      "text/html": [
       "<style>#sk-container-id-3 {color: black;background-color: white;}#sk-container-id-3 pre{padding: 0;}#sk-container-id-3 div.sk-toggleable {background-color: white;}#sk-container-id-3 label.sk-toggleable__label {cursor: pointer;display: block;width: 100%;margin-bottom: 0;padding: 0.3em;box-sizing: border-box;text-align: center;}#sk-container-id-3 label.sk-toggleable__label-arrow:before {content: \"▸\";float: left;margin-right: 0.25em;color: #696969;}#sk-container-id-3 label.sk-toggleable__label-arrow:hover:before {color: black;}#sk-container-id-3 div.sk-estimator:hover label.sk-toggleable__label-arrow:before {color: black;}#sk-container-id-3 div.sk-toggleable__content {max-height: 0;max-width: 0;overflow: hidden;text-align: left;background-color: #f0f8ff;}#sk-container-id-3 div.sk-toggleable__content pre {margin: 0.2em;color: black;border-radius: 0.25em;background-color: #f0f8ff;}#sk-container-id-3 input.sk-toggleable__control:checked~div.sk-toggleable__content {max-height: 200px;max-width: 100%;overflow: auto;}#sk-container-id-3 input.sk-toggleable__control:checked~label.sk-toggleable__label-arrow:before {content: \"▾\";}#sk-container-id-3 div.sk-estimator input.sk-toggleable__control:checked~label.sk-toggleable__label {background-color: #d4ebff;}#sk-container-id-3 div.sk-label input.sk-toggleable__control:checked~label.sk-toggleable__label {background-color: #d4ebff;}#sk-container-id-3 input.sk-hidden--visually {border: 0;clip: rect(1px 1px 1px 1px);clip: rect(1px, 1px, 1px, 1px);height: 1px;margin: -1px;overflow: hidden;padding: 0;position: absolute;width: 1px;}#sk-container-id-3 div.sk-estimator {font-family: monospace;background-color: #f0f8ff;border: 1px dotted black;border-radius: 0.25em;box-sizing: border-box;margin-bottom: 0.5em;}#sk-container-id-3 div.sk-estimator:hover {background-color: #d4ebff;}#sk-container-id-3 div.sk-parallel-item::after {content: \"\";width: 100%;border-bottom: 1px solid gray;flex-grow: 1;}#sk-container-id-3 div.sk-label:hover label.sk-toggleable__label {background-color: #d4ebff;}#sk-container-id-3 div.sk-serial::before {content: \"\";position: absolute;border-left: 1px solid gray;box-sizing: border-box;top: 0;bottom: 0;left: 50%;z-index: 0;}#sk-container-id-3 div.sk-serial {display: flex;flex-direction: column;align-items: center;background-color: white;padding-right: 0.2em;padding-left: 0.2em;position: relative;}#sk-container-id-3 div.sk-item {position: relative;z-index: 1;}#sk-container-id-3 div.sk-parallel {display: flex;align-items: stretch;justify-content: center;background-color: white;position: relative;}#sk-container-id-3 div.sk-item::before, #sk-container-id-3 div.sk-parallel-item::before {content: \"\";position: absolute;border-left: 1px solid gray;box-sizing: border-box;top: 0;bottom: 0;left: 50%;z-index: -1;}#sk-container-id-3 div.sk-parallel-item {display: flex;flex-direction: column;z-index: 1;position: relative;background-color: white;}#sk-container-id-3 div.sk-parallel-item:first-child::after {align-self: flex-end;width: 50%;}#sk-container-id-3 div.sk-parallel-item:last-child::after {align-self: flex-start;width: 50%;}#sk-container-id-3 div.sk-parallel-item:only-child::after {width: 0;}#sk-container-id-3 div.sk-dashed-wrapped {border: 1px dashed gray;margin: 0 0.4em 0.5em 0.4em;box-sizing: border-box;padding-bottom: 0.4em;background-color: white;}#sk-container-id-3 div.sk-label label {font-family: monospace;font-weight: bold;display: inline-block;line-height: 1.2em;}#sk-container-id-3 div.sk-label-container {text-align: center;}#sk-container-id-3 div.sk-container {/* jupyter's `normalize.less` sets `[hidden] { display: none; }` but bootstrap.min.css set `[hidden] { display: none !important; }` so we also need the `!important` here to be able to override the default hidden behavior on the sphinx rendered scikit-learn.org. See: https://github.com/scikit-learn/scikit-learn/issues/21755 */display: inline-block !important;position: relative;}#sk-container-id-3 div.sk-text-repr-fallback {display: none;}</style><div id=\"sk-container-id-3\" class=\"sk-top-container\"><div class=\"sk-text-repr-fallback\"><pre>LogisticRegression()</pre><b>In a Jupyter environment, please rerun this cell to show the HTML representation or trust the notebook. <br />On GitHub, the HTML representation is unable to render, please try loading this page with nbviewer.org.</b></div><div class=\"sk-container\" hidden><div class=\"sk-item\"><div class=\"sk-estimator sk-toggleable\"><input class=\"sk-toggleable__control sk-hidden--visually\" id=\"sk-estimator-id-3\" type=\"checkbox\" checked><label for=\"sk-estimator-id-3\" class=\"sk-toggleable__label sk-toggleable__label-arrow\">LogisticRegression</label><div class=\"sk-toggleable__content\"><pre>LogisticRegression()</pre></div></div></div></div></div>"
      ],
      "text/plain": [
       "LogisticRegression()"
      ]
     },
     "execution_count": 54,
     "metadata": {},
     "output_type": "execute_result"
    }
   ],
   "source": [
    "from sklearn.linear_model import LogisticRegression\n",
    "\n",
    "# Train a logistic regression model\n",
    "lr = LogisticRegression(penalty='l2')\n",
    "lr.fit(X_train, y_train)\n"
   ]
  },
  {
   "cell_type": "markdown",
   "metadata": {
    "id": "au_JUuck49sw"
   },
   "source": [
    "b. A Neural Network (NN) model for sentiment classification (10 points)"
   ]
  },
  {
   "cell_type": "code",
   "execution_count": 55,
   "metadata": {
    "colab": {
     "base_uri": "https://localhost:8080/",
     "height": 75
    },
    "id": "5yjMnxuV4rWZ",
    "outputId": "276881cd-af06-4263-d19a-8861295bc2d6"
   },
   "outputs": [
    {
     "data": {
      "text/html": [
       "<style>#sk-container-id-4 {color: black;background-color: white;}#sk-container-id-4 pre{padding: 0;}#sk-container-id-4 div.sk-toggleable {background-color: white;}#sk-container-id-4 label.sk-toggleable__label {cursor: pointer;display: block;width: 100%;margin-bottom: 0;padding: 0.3em;box-sizing: border-box;text-align: center;}#sk-container-id-4 label.sk-toggleable__label-arrow:before {content: \"▸\";float: left;margin-right: 0.25em;color: #696969;}#sk-container-id-4 label.sk-toggleable__label-arrow:hover:before {color: black;}#sk-container-id-4 div.sk-estimator:hover label.sk-toggleable__label-arrow:before {color: black;}#sk-container-id-4 div.sk-toggleable__content {max-height: 0;max-width: 0;overflow: hidden;text-align: left;background-color: #f0f8ff;}#sk-container-id-4 div.sk-toggleable__content pre {margin: 0.2em;color: black;border-radius: 0.25em;background-color: #f0f8ff;}#sk-container-id-4 input.sk-toggleable__control:checked~div.sk-toggleable__content {max-height: 200px;max-width: 100%;overflow: auto;}#sk-container-id-4 input.sk-toggleable__control:checked~label.sk-toggleable__label-arrow:before {content: \"▾\";}#sk-container-id-4 div.sk-estimator input.sk-toggleable__control:checked~label.sk-toggleable__label {background-color: #d4ebff;}#sk-container-id-4 div.sk-label input.sk-toggleable__control:checked~label.sk-toggleable__label {background-color: #d4ebff;}#sk-container-id-4 input.sk-hidden--visually {border: 0;clip: rect(1px 1px 1px 1px);clip: rect(1px, 1px, 1px, 1px);height: 1px;margin: -1px;overflow: hidden;padding: 0;position: absolute;width: 1px;}#sk-container-id-4 div.sk-estimator {font-family: monospace;background-color: #f0f8ff;border: 1px dotted black;border-radius: 0.25em;box-sizing: border-box;margin-bottom: 0.5em;}#sk-container-id-4 div.sk-estimator:hover {background-color: #d4ebff;}#sk-container-id-4 div.sk-parallel-item::after {content: \"\";width: 100%;border-bottom: 1px solid gray;flex-grow: 1;}#sk-container-id-4 div.sk-label:hover label.sk-toggleable__label {background-color: #d4ebff;}#sk-container-id-4 div.sk-serial::before {content: \"\";position: absolute;border-left: 1px solid gray;box-sizing: border-box;top: 0;bottom: 0;left: 50%;z-index: 0;}#sk-container-id-4 div.sk-serial {display: flex;flex-direction: column;align-items: center;background-color: white;padding-right: 0.2em;padding-left: 0.2em;position: relative;}#sk-container-id-4 div.sk-item {position: relative;z-index: 1;}#sk-container-id-4 div.sk-parallel {display: flex;align-items: stretch;justify-content: center;background-color: white;position: relative;}#sk-container-id-4 div.sk-item::before, #sk-container-id-4 div.sk-parallel-item::before {content: \"\";position: absolute;border-left: 1px solid gray;box-sizing: border-box;top: 0;bottom: 0;left: 50%;z-index: -1;}#sk-container-id-4 div.sk-parallel-item {display: flex;flex-direction: column;z-index: 1;position: relative;background-color: white;}#sk-container-id-4 div.sk-parallel-item:first-child::after {align-self: flex-end;width: 50%;}#sk-container-id-4 div.sk-parallel-item:last-child::after {align-self: flex-start;width: 50%;}#sk-container-id-4 div.sk-parallel-item:only-child::after {width: 0;}#sk-container-id-4 div.sk-dashed-wrapped {border: 1px dashed gray;margin: 0 0.4em 0.5em 0.4em;box-sizing: border-box;padding-bottom: 0.4em;background-color: white;}#sk-container-id-4 div.sk-label label {font-family: monospace;font-weight: bold;display: inline-block;line-height: 1.2em;}#sk-container-id-4 div.sk-label-container {text-align: center;}#sk-container-id-4 div.sk-container {/* jupyter's `normalize.less` sets `[hidden] { display: none; }` but bootstrap.min.css set `[hidden] { display: none !important; }` so we also need the `!important` here to be able to override the default hidden behavior on the sphinx rendered scikit-learn.org. See: https://github.com/scikit-learn/scikit-learn/issues/21755 */display: inline-block !important;position: relative;}#sk-container-id-4 div.sk-text-repr-fallback {display: none;}</style><div id=\"sk-container-id-4\" class=\"sk-top-container\"><div class=\"sk-text-repr-fallback\"><pre>MLPClassifier()</pre><b>In a Jupyter environment, please rerun this cell to show the HTML representation or trust the notebook. <br />On GitHub, the HTML representation is unable to render, please try loading this page with nbviewer.org.</b></div><div class=\"sk-container\" hidden><div class=\"sk-item\"><div class=\"sk-estimator sk-toggleable\"><input class=\"sk-toggleable__control sk-hidden--visually\" id=\"sk-estimator-id-4\" type=\"checkbox\" checked><label for=\"sk-estimator-id-4\" class=\"sk-toggleable__label sk-toggleable__label-arrow\">MLPClassifier</label><div class=\"sk-toggleable__content\"><pre>MLPClassifier()</pre></div></div></div></div></div>"
      ],
      "text/plain": [
       "MLPClassifier()"
      ]
     },
     "execution_count": 55,
     "metadata": {},
     "output_type": "execute_result"
    }
   ],
   "source": [
    "from sklearn.neural_network import MLPClassifier\n",
    "\n",
    "# Train a neural network model\n",
    "nn = MLPClassifier()\n",
    "nn.fit(X_train, y_train)\n"
   ]
  },
  {
   "cell_type": "markdown",
   "metadata": {
    "id": "snmP5fXN5VpY"
   },
   "source": [
    "**3) Evaluation (15 points): Train the model on the training set, select the best model based\n",
    "on the validation set, and test your model on the testing set.**"
   ]
  },
  {
   "cell_type": "markdown",
   "metadata": {
    "id": "L5yR85VT5Wb4"
   },
   "source": [
    "a. Evaluate the model performance using metrics for classification, such as accuracy,\n",
    "precision, recall, F1-score, and AUC. Report your results for both methods (10 points).\n"
   ]
  },
  {
   "cell_type": "markdown",
   "metadata": {
    "id": "-OSwBleL5itf"
   },
   "source": [
    "b. Have a brief discussion to compare the performance of those two models (5 points). It\n",
    "should be noted that there is no fixed answer for the results. You will need to report the\n",
    "exact results returned in your experiments. The discussions should only base on your\n",
    "own experimental settings and returned results."
   ]
  },
  {
   "cell_type": "code",
   "execution_count": 56,
   "metadata": {
    "colab": {
     "base_uri": "https://localhost:8080/",
     "height": 0
    },
    "id": "XTOukNPZ4rPa",
    "outputId": "6e087070-0bb5-49b6-ec15-c2440a89e7f8"
   },
   "outputs": [
    {
     "name": "stdout",
     "output_type": "stream",
     "text": [
      "Logistic Regression Accuracy: 0.9063136456211812\n",
      "Logistic Regression Precision: 0.9177215189873418\n",
      "Logistic Regression Recall: 0.9841628959276018\n",
      "Logistic Regression F1-Score: 0.9497816593886462\n",
      "Logistic Regression AUC-ROC Score: 0.5941222642903314\n"
     ]
    }
   ],
   "source": [
    "from sklearn.metrics import accuracy_score, precision_score, recall_score, f1_score, roc_auc_score\n",
    "\n",
    "# Evaluate the logistic regression model\n",
    "y_pred_lr = lr.predict(X_valid)\n",
    "print(f\"Logistic Regression Accuracy: {accuracy_score(y_valid, y_pred_lr)}\")\n",
    "print(f\"Logistic Regression Precision: {precision_score(y_valid, y_pred_lr)}\")\n",
    "print(f\"Logistic Regression Recall: {recall_score(y_valid, y_pred_lr)}\")\n",
    "print(f\"Logistic Regression F1-Score: {f1_score(y_valid, y_pred_lr)}\")\n",
    "print(f\"Logistic Regression AUC-ROC Score: {roc_auc_score(y_valid, y_pred_lr)}\")\n"
   ]
  },
  {
   "cell_type": "code",
   "execution_count": 58,
   "metadata": {
    "colab": {
     "base_uri": "https://localhost:8080/",
     "height": 0
    },
    "id": "RIYfDgwA5Li8",
    "outputId": "11857dfb-069e-456a-bf8f-8c598c1e8a30"
   },
   "outputs": [
    {
     "name": "stdout",
     "output_type": "stream",
     "text": [
      "Neural Network Accuracy: 0.9185336048879837\n",
      "Neural Network Precision: 0.935064935064935\n",
      "Neural Network Recall: 0.9773755656108597\n",
      "Neural Network F1-Score: 0.9557522123893806\n",
      "Neural Network AUC-ROC Score: 0.6825653338258381\n"
     ]
    }
   ],
   "source": [
    "# Evaluate the neural network model\n",
    "y_pred_nn = nn.predict(X_valid)\n",
    "print(f\"Neural Network Accuracy: {accuracy_score(y_valid, y_pred_nn)}\")\n",
    "print(f\"Neural Network Precision: {precision_score(y_valid, y_pred_nn)}\")\n",
    "print(f\"Neural Network Recall: {recall_score(y_valid, y_pred_nn)}\")\n",
    "print(f\"Neural Network F1-Score: {f1_score(y_valid, y_pred_nn)}\")\n",
    "print(f\"Neural Network AUC-ROC Score: {roc_auc_score(y_valid, y_pred_nn)}\")\n"
   ]
  },
  {
   "cell_type": "markdown",
   "metadata": {
    "id": "9igd8SfnB4HE"
   },
   "source": [
    "In comparing the performance of the Logistic Regression model with L2 regularization and the Neural Network (NN) model for sentiment analysis, here are the results:\n",
    "\n",
    "**Logistic Regression:**\n",
    "\n",
    "Accuracy: 0.9063\n",
    "\n",
    "Precision: 0.9177\n",
    "\n",
    "Recall: 0.9842\n",
    "\n",
    "F1-Score: 0.9498\n",
    "\n",
    "AUC-ROC Score: 0.5941\n",
    "\n",
    "**Neural Network:**\n",
    "\n",
    "Accuracy: 0.9185\n",
    "\n",
    "Precision: 0.9351\n",
    "\n",
    "Recall: 0.9774\n",
    "\n",
    "F1-Score: 0.9558\n",
    "\n",
    "AUC-ROC Score: 0.6826\n",
    "\n",
    "Based on these results, it appears that the Neural Network outperformed the Logistic Regression model in terms of accuracy, precision, and F1-Score. The Neural Network also achieved a higher AUC-ROC score, indicating a better ability to distinguish between the positive and negative classes. However, the choice between the two models should be made based on the specific requirements of the sentiment analysis task, taking into account factors such as class balance and the relative importance of precision and recall."
   ]
  },
  {
   "cell_type": "code",
   "execution_count": 62,
   "metadata": {
    "colab": {
     "base_uri": "https://localhost:8080/",
     "height": 0
    },
    "id": "CoSW4BpeCtUS",
    "outputId": "023df46e-d68d-423b-d3f5-99360244c7c0"
   },
   "outputs": [
    {
     "name": "stdout",
     "output_type": "stream",
     "text": [
      "\n",
      "Testing Set Metrics:\n",
      "\n",
      "Neural Network Accuracy: 0.9491869918699187\n",
      "Neural Network Precision: 0.9613733905579399\n",
      "Neural Network Recall: 0.9846153846153847\n",
      "Neural Network F1-Score: 0.9728555917480999\n",
      "Neural Network AUC-ROC Score: 0.749064449064449\n"
     ]
    }
   ],
   "source": [
    "#so we test Neural Network on testing set\n",
    "\n",
    "# Evaluate the NN model on the test set\n",
    "\n",
    "y_pred_nn_test = nn.predict(X_test)\n",
    "print(\"\\nTesting Set Metrics:\\n\")\n",
    "print(f\"Neural Network Accuracy: {accuracy_score(y_test, y_pred_nn_test)}\")\n",
    "print(f\"Neural Network Precision: {precision_score(y_test, y_pred_nn_test)}\")\n",
    "print(f\"Neural Network Recall: {recall_score(y_test, y_pred_nn_test)}\")\n",
    "print(f\"Neural Network F1-Score: {f1_score(y_test, y_pred_nn_test)}\")\n",
    "print(f\"Neural Network AUC-ROC Score: {roc_auc_score(y_test, y_pred_nn_test)}\")\n"
   ]
  },
  {
   "cell_type": "markdown",
   "metadata": {
    "id": "lxTrSVO_EGOL"
   },
   "source": [
    "Certainly, here's a brief discussion comparing the performance of the Logistic Regression model with L2 regularization and the Neural Network (NN) model based on the reported results:\n",
    "\n",
    "**Accuracy**: The Neural Network achieved a slightly higher accuracy of 0.9185 compared to the Logistic Regression's accuracy of 0.9063. While both models have high accuracy, the Neural Network shows a marginal advantage in overall correctness of predictions.\n",
    "\n",
    "**Precision and Recall**: The Neural Network demonstrated higher precision (0.9351) compared to the Logistic Regression (0.9177). This indicates that the Neural Network is better at correctly identifying positive sentiment in reviews. On the other hand, the Logistic Regression model achieved a high recall (0.9842), suggesting it is more effective at capturing true positive instances. Precision and recall are particularly important when considering the cost of false positives and false negatives.\n",
    "\n",
    "**F1-Score**: The F1-Score, which balances precision and recall, was slightly higher for the Neural Network (0.9558) compared to the Logistic Regression (0.9498). This demonstrates that the Neural Network provides a better overall trade-off between precision and recall.\n",
    "\n",
    "**AUC-ROC Score**: The AUC-ROC score, which measures the model's ability to distinguish between positive and negative classes, was significantly higher for the Neural Network (0.6826) than for the Logistic Regression (0.5941). This suggests that the Neural Network has a better discriminatory power, making it more suitable for applications where class separation is critical.\n",
    "\n",
    "**Model Selection**: The choice between these two models should be based on the specific requirements of the sentiment analysis task. If the application requires high precision and an emphasis on correctly identifying positive sentiment, the Neural Network may be the preferred choice. On the other hand, if recall is of greater importance, the Logistic Regression model may be considered. However, in most cases, given the higher AUC-ROC score and a slightly better F1-Score, the Neural Network appears to be the more well-rounded and effective choice for sentiment analysis.\n",
    "\n",
    "In summary, the Neural Network outperformed the Logistic Regression model in several key metrics, making it a compelling choice for sentiment analysis."
   ]
  },
  {
   "cell_type": "markdown",
   "metadata": {
    "id": "LQXiOnkaDfJ6"
   },
   "source": [
    "### **References**"
   ]
  },
  {
   "cell_type": "markdown",
   "metadata": {
    "id": "AKMAVLHcDnJT"
   },
   "source": [
    "I have use Chatgpt and the Jupiter notebook which was provided by the professor."
   ]
  }
 ],
 "metadata": {
  "colab": {
   "provenance": []
  },
  "kernelspec": {
   "display_name": "Python 3 (ipykernel)",
   "language": "python",
   "name": "python3"
  },
  "language_info": {
   "codemirror_mode": {
    "name": "ipython",
    "version": 3
   },
   "file_extension": ".py",
   "mimetype": "text/x-python",
   "name": "python",
   "nbconvert_exporter": "python",
   "pygments_lexer": "ipython3",
   "version": "3.10.9"
  }
 },
 "nbformat": 4,
 "nbformat_minor": 1
}
